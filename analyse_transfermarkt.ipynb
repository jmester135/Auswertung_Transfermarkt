{
 "cells": [
  {
   "cell_type": "code",
   "execution_count": 26,
   "metadata": {},
   "outputs": [],
   "source": [
    "import pandas as pd\n",
    "import numpy as np\n",
    "from datetime import datetime\n",
    "import matplotlib.pyplot as plt"
   ]
  },
  {
   "cell_type": "markdown",
   "metadata": {},
   "source": [
    "In der folgenden Analyse werden statistische Verfahren auf die Daten des Fußballtransfermarktes angewandt. Hieraus sollte Rückschlüsse gezogen werden können, welchen Einfluss verschiedene Spielerdaten auf den Marktwert eines Spielers haben. Hierzu wurden die Daten der Website Transfermarkt.de mithilfe eines Crawelrs gespeichert. Abgerufen wurden die Daten am 20.06.2020 weshalb die Aktualität abweichen kann.\n",
    "\n",
    "\n",
    "Der Marktwert eines Spielers ist zu vergleichen mit dem Marktwert eines Unternehmen. Bestimmt wird der Marktwert aus verschiedenen Analysen- , Studien- und Kennzahlen, die Experten hervorheben. So ist es z. B. von Bedeutung, ob ein Spieler viele Tore schießt, welche Titel dieser in seiner Karriere gewonnen hat und auch das Alter des Spielers. Nach dem Marktwert und dem dann noch bestehenden Vertrag, den ein Spieler besitzt, wird bei einem „Kauf“ eines Spielers so auch die Ablösesumme bestimmt, wenn diese nicht vorher vertraglich festgehalten wurde.\n",
    "\n"
   ]
  },
  {
   "cell_type": "code",
   "execution_count": 27,
   "metadata": {
    "scrolled": true
   },
   "outputs": [
    {
     "data": {
      "text/html": [
       "<div>\n",
       "<style scoped>\n",
       "    .dataframe tbody tr th:only-of-type {\n",
       "        vertical-align: middle;\n",
       "    }\n",
       "\n",
       "    .dataframe tbody tr th {\n",
       "        vertical-align: top;\n",
       "    }\n",
       "\n",
       "    .dataframe thead th {\n",
       "        text-align: right;\n",
       "    }\n",
       "</style>\n",
       "<table border=\"1\" class=\"dataframe\">\n",
       "  <thead>\n",
       "    <tr style=\"text-align: right;\">\n",
       "      <th></th>\n",
       "      <th>Unnamed: 0</th>\n",
       "      <th>Players</th>\n",
       "      <th>Values</th>\n",
       "      <th>Number</th>\n",
       "      <th>BDay</th>\n",
       "      <th>Club</th>\n",
       "      <th>Position</th>\n",
       "      <th>Size</th>\n",
       "      <th>Birth Place</th>\n",
       "      <th>Leauge</th>\n",
       "      <th>Age</th>\n",
       "      <th>Lon</th>\n",
       "      <th>Lat</th>\n",
       "      <th>country</th>\n",
       "    </tr>\n",
       "  </thead>\n",
       "  <tbody>\n",
       "    <tr>\n",
       "      <th>0</th>\n",
       "      <td>0</td>\n",
       "      <td>Ederson</td>\n",
       "      <td>56000000</td>\n",
       "      <td>31</td>\n",
       "      <td>1993-08-17</td>\n",
       "      <td>Manchester City</td>\n",
       "      <td>Torwart</td>\n",
       "      <td>188.0</td>\n",
       "      <td>Osasco (SP)</td>\n",
       "      <td>Premier League</td>\n",
       "      <td>27</td>\n",
       "      <td>-46.791680</td>\n",
       "      <td>-23.532486</td>\n",
       "      <td>Brasil</td>\n",
       "    </tr>\n",
       "    <tr>\n",
       "      <th>1</th>\n",
       "      <td>1</td>\n",
       "      <td>Claudio Bravo</td>\n",
       "      <td>1200000</td>\n",
       "      <td>1</td>\n",
       "      <td>1983-04-13</td>\n",
       "      <td>Manchester City</td>\n",
       "      <td>Torwart</td>\n",
       "      <td>184.0</td>\n",
       "      <td>Viluco</td>\n",
       "      <td>Premier League</td>\n",
       "      <td>37</td>\n",
       "      <td>-71.159347</td>\n",
       "      <td>-34.896282</td>\n",
       "      <td>Chile</td>\n",
       "    </tr>\n",
       "    <tr>\n",
       "      <th>2</th>\n",
       "      <td>2</td>\n",
       "      <td>John Stones</td>\n",
       "      <td>36000000</td>\n",
       "      <td>5</td>\n",
       "      <td>1994-05-28</td>\n",
       "      <td>Manchester City</td>\n",
       "      <td>Innenverteidiger</td>\n",
       "      <td>188.0</td>\n",
       "      <td>Barnsley</td>\n",
       "      <td>Premier League</td>\n",
       "      <td>26</td>\n",
       "      <td>-1.482776</td>\n",
       "      <td>53.552772</td>\n",
       "      <td>United Kingdom</td>\n",
       "    </tr>\n",
       "    <tr>\n",
       "      <th>3</th>\n",
       "      <td>3</td>\n",
       "      <td>Eric García</td>\n",
       "      <td>6300000</td>\n",
       "      <td>50</td>\n",
       "      <td>2001-01-09</td>\n",
       "      <td>Manchester City</td>\n",
       "      <td>Innenverteidiger</td>\n",
       "      <td>183.0</td>\n",
       "      <td>Barcelona</td>\n",
       "      <td>Premier League</td>\n",
       "      <td>20</td>\n",
       "      <td>2.177432</td>\n",
       "      <td>41.382894</td>\n",
       "      <td>España</td>\n",
       "    </tr>\n",
       "    <tr>\n",
       "      <th>4</th>\n",
       "      <td>4</td>\n",
       "      <td>Joel Latibeaudiere</td>\n",
       "      <td>100000</td>\n",
       "      <td>-</td>\n",
       "      <td>2000-01-06</td>\n",
       "      <td>Man City U23</td>\n",
       "      <td>Innenverteidiger</td>\n",
       "      <td>180.0</td>\n",
       "      <td>Doncaster</td>\n",
       "      <td>Premier League</td>\n",
       "      <td>21</td>\n",
       "      <td>-1.133531</td>\n",
       "      <td>53.522768</td>\n",
       "      <td>United Kingdom</td>\n",
       "    </tr>\n",
       "    <tr>\n",
       "      <th>5</th>\n",
       "      <td>5</td>\n",
       "      <td>Oleksandr Zinchenko</td>\n",
       "      <td>24000000</td>\n",
       "      <td>11</td>\n",
       "      <td>1996-12-15</td>\n",
       "      <td>Manchester City</td>\n",
       "      <td>Linker Verteidiger</td>\n",
       "      <td>175.0</td>\n",
       "      <td>Radomyshl, Zhytomyr ...</td>\n",
       "      <td>Premier League</td>\n",
       "      <td>24</td>\n",
       "      <td>29.228959</td>\n",
       "      <td>50.496181</td>\n",
       "      <td>Україна</td>\n",
       "    </tr>\n",
       "    <tr>\n",
       "      <th>6</th>\n",
       "      <td>6</td>\n",
       "      <td>João Cancelo</td>\n",
       "      <td>36000000</td>\n",
       "      <td>27</td>\n",
       "      <td>1994-05-27</td>\n",
       "      <td>Manchester City</td>\n",
       "      <td>Rechter Verteidiger</td>\n",
       "      <td>182.0</td>\n",
       "      <td>Barreiro</td>\n",
       "      <td>Premier League</td>\n",
       "      <td>26</td>\n",
       "      <td>-9.047857</td>\n",
       "      <td>38.634066</td>\n",
       "      <td>Portugal</td>\n",
       "    </tr>\n",
       "    <tr>\n",
       "      <th>7</th>\n",
       "      <td>7</td>\n",
       "      <td>Fernandinho</td>\n",
       "      <td>8000000</td>\n",
       "      <td>25</td>\n",
       "      <td>1985-05-04</td>\n",
       "      <td>Manchester City</td>\n",
       "      <td>Defensives Mittelfeld</td>\n",
       "      <td>179.0</td>\n",
       "      <td>Londrina</td>\n",
       "      <td>Premier League</td>\n",
       "      <td>35</td>\n",
       "      <td>-51.159502</td>\n",
       "      <td>-23.311288</td>\n",
       "      <td>Brasil</td>\n",
       "    </tr>\n",
       "    <tr>\n",
       "      <th>8</th>\n",
       "      <td>8</td>\n",
       "      <td>Phil Foden</td>\n",
       "      <td>27000000</td>\n",
       "      <td>47</td>\n",
       "      <td>2000-05-28</td>\n",
       "      <td>Manchester City</td>\n",
       "      <td>Zentrales Mittelfeld</td>\n",
       "      <td>171.0</td>\n",
       "      <td>Stockport</td>\n",
       "      <td>Premier League</td>\n",
       "      <td>20</td>\n",
       "      <td>-2.160243</td>\n",
       "      <td>53.407901</td>\n",
       "      <td>United Kingdom</td>\n",
       "    </tr>\n",
       "    <tr>\n",
       "      <th>9</th>\n",
       "      <td>9</td>\n",
       "      <td>David Silva</td>\n",
       "      <td>12000000</td>\n",
       "      <td>21</td>\n",
       "      <td>1986-01-08</td>\n",
       "      <td>Manchester City</td>\n",
       "      <td>Offensives Mittelfeld</td>\n",
       "      <td>170.0</td>\n",
       "      <td>Arguineguín</td>\n",
       "      <td>Premier League</td>\n",
       "      <td>35</td>\n",
       "      <td>-15.681350</td>\n",
       "      <td>27.759075</td>\n",
       "      <td>España</td>\n",
       "    </tr>\n",
       "  </tbody>\n",
       "</table>\n",
       "</div>"
      ],
      "text/plain": [
       "   Unnamed: 0              Players    Values Number       BDay  \\\n",
       "0           0              Ederson  56000000     31 1993-08-17   \n",
       "1           1        Claudio Bravo   1200000      1 1983-04-13   \n",
       "2           2          John Stones  36000000      5 1994-05-28   \n",
       "3           3          Eric García   6300000     50 2001-01-09   \n",
       "4           4   Joel Latibeaudiere    100000      - 2000-01-06   \n",
       "5           5  Oleksandr Zinchenko  24000000     11 1996-12-15   \n",
       "6           6         João Cancelo  36000000     27 1994-05-27   \n",
       "7           7          Fernandinho   8000000     25 1985-05-04   \n",
       "8           8           Phil Foden  27000000     47 2000-05-28   \n",
       "9           9          David Silva  12000000     21 1986-01-08   \n",
       "\n",
       "              Club                                           Position   Size  \\\n",
       "0  Manchester City                Torwart                              188.0   \n",
       "1  Manchester City                Torwart                              184.0   \n",
       "2  Manchester City       Innenverteidiger                              188.0   \n",
       "3  Manchester City       Innenverteidiger                              183.0   \n",
       "4     Man City U23       Innenverteidiger                              180.0   \n",
       "5  Manchester City     Linker Verteidiger                              175.0   \n",
       "6  Manchester City    Rechter Verteidiger                              182.0   \n",
       "7  Manchester City  Defensives Mittelfeld                              179.0   \n",
       "8  Manchester City   Zentrales Mittelfeld                              171.0   \n",
       "9  Manchester City  Offensives Mittelfeld                              170.0   \n",
       "\n",
       "               Birth Place          Leauge  Age        Lon        Lat  \\\n",
       "0              Osasco (SP)  Premier League   27 -46.791680 -23.532486   \n",
       "1                   Viluco  Premier League   37 -71.159347 -34.896282   \n",
       "2                 Barnsley  Premier League   26  -1.482776  53.552772   \n",
       "3                Barcelona  Premier League   20   2.177432  41.382894   \n",
       "4                Doncaster  Premier League   21  -1.133531  53.522768   \n",
       "5  Radomyshl, Zhytomyr ...  Premier League   24  29.228959  50.496181   \n",
       "6                 Barreiro  Premier League   26  -9.047857  38.634066   \n",
       "7                 Londrina  Premier League   35 -51.159502 -23.311288   \n",
       "8                Stockport  Premier League   20  -2.160243  53.407901   \n",
       "9              Arguineguín  Premier League   35 -15.681350  27.759075   \n",
       "\n",
       "          country  \n",
       "0          Brasil  \n",
       "1           Chile  \n",
       "2  United Kingdom  \n",
       "3          España  \n",
       "4  United Kingdom  \n",
       "5         Україна  \n",
       "6        Portugal  \n",
       "7          Brasil  \n",
       "8  United Kingdom  \n",
       "9          España  "
      ]
     },
     "execution_count": 27,
     "metadata": {},
     "output_type": "execute_result"
    }
   ],
   "source": [
    "df = pd.read_excel ('./transfermarkt_clean.xlsx')\n",
    "df.head(10)"
   ]
  },
  {
   "cell_type": "markdown",
   "metadata": {},
   "source": [
    "Zunächst wird die Excel Datei, welche von dem Crawler erstellt wurde und von bereinigt wurde, in ein Dataframe geladen."
   ]
  },
  {
   "cell_type": "code",
   "execution_count": 28,
   "metadata": {},
   "outputs": [
    {
     "data": {
      "text/html": [
       "<div>\n",
       "<style scoped>\n",
       "    .dataframe tbody tr th:only-of-type {\n",
       "        vertical-align: middle;\n",
       "    }\n",
       "\n",
       "    .dataframe tbody tr th {\n",
       "        vertical-align: top;\n",
       "    }\n",
       "\n",
       "    .dataframe thead th {\n",
       "        text-align: right;\n",
       "    }\n",
       "</style>\n",
       "<table border=\"1\" class=\"dataframe\">\n",
       "  <thead>\n",
       "    <tr style=\"text-align: right;\">\n",
       "      <th></th>\n",
       "      <th>Players</th>\n",
       "      <th>Values</th>\n",
       "      <th>Number</th>\n",
       "      <th>BDay</th>\n",
       "      <th>Club</th>\n",
       "      <th>Position</th>\n",
       "      <th>Size</th>\n",
       "      <th>Birth Place</th>\n",
       "      <th>Leauge</th>\n",
       "      <th>Age</th>\n",
       "      <th>Lon</th>\n",
       "      <th>Lat</th>\n",
       "      <th>country</th>\n",
       "    </tr>\n",
       "  </thead>\n",
       "  <tbody>\n",
       "    <tr>\n",
       "      <th>0</th>\n",
       "      <td>Ederson</td>\n",
       "      <td>56000000</td>\n",
       "      <td>31</td>\n",
       "      <td>1993-08-17</td>\n",
       "      <td>Manchester City</td>\n",
       "      <td>Torwart</td>\n",
       "      <td>188.0</td>\n",
       "      <td>Osasco (SP)</td>\n",
       "      <td>Premier League</td>\n",
       "      <td>27</td>\n",
       "      <td>-46.791680</td>\n",
       "      <td>-23.532486</td>\n",
       "      <td>Brasil</td>\n",
       "    </tr>\n",
       "    <tr>\n",
       "      <th>1</th>\n",
       "      <td>Claudio Bravo</td>\n",
       "      <td>1200000</td>\n",
       "      <td>1</td>\n",
       "      <td>1983-04-13</td>\n",
       "      <td>Manchester City</td>\n",
       "      <td>Torwart</td>\n",
       "      <td>184.0</td>\n",
       "      <td>Viluco</td>\n",
       "      <td>Premier League</td>\n",
       "      <td>37</td>\n",
       "      <td>-71.159347</td>\n",
       "      <td>-34.896282</td>\n",
       "      <td>Chile</td>\n",
       "    </tr>\n",
       "    <tr>\n",
       "      <th>2</th>\n",
       "      <td>John Stones</td>\n",
       "      <td>36000000</td>\n",
       "      <td>5</td>\n",
       "      <td>1994-05-28</td>\n",
       "      <td>Manchester City</td>\n",
       "      <td>Innenverteidiger</td>\n",
       "      <td>188.0</td>\n",
       "      <td>Barnsley</td>\n",
       "      <td>Premier League</td>\n",
       "      <td>26</td>\n",
       "      <td>-1.482776</td>\n",
       "      <td>53.552772</td>\n",
       "      <td>United Kingdom</td>\n",
       "    </tr>\n",
       "  </tbody>\n",
       "</table>\n",
       "</div>"
      ],
      "text/plain": [
       "         Players    Values Number       BDay             Club  \\\n",
       "0        Ederson  56000000     31 1993-08-17  Manchester City   \n",
       "1  Claudio Bravo   1200000      1 1983-04-13  Manchester City   \n",
       "2    John Stones  36000000      5 1994-05-28  Manchester City   \n",
       "\n",
       "                                       Position   Size  Birth Place  \\\n",
       "0           Torwart                              188.0  Osasco (SP)   \n",
       "1           Torwart                              184.0       Viluco   \n",
       "2  Innenverteidiger                              188.0     Barnsley   \n",
       "\n",
       "           Leauge  Age        Lon        Lat         country  \n",
       "0  Premier League   27 -46.791680 -23.532486          Brasil  \n",
       "1  Premier League   37 -71.159347 -34.896282           Chile  \n",
       "2  Premier League   26  -1.482776  53.552772  United Kingdom  "
      ]
     },
     "execution_count": 28,
     "metadata": {},
     "output_type": "execute_result"
    }
   ],
   "source": [
    "del df['Unnamed: 0']\n",
    "df.head(3)"
   ]
  },
  {
   "cell_type": "markdown",
   "metadata": {},
   "source": [
    "Als nächstes muss wieder die Zeile \"Unnamed\" gelöscht werden, da diese durch ein Excel export / import automatisch erstellt wird."
   ]
  },
  {
   "cell_type": "code",
   "execution_count": 29,
   "metadata": {},
   "outputs": [
    {
     "data": {
      "text/html": [
       "<div>\n",
       "<style scoped>\n",
       "    .dataframe tbody tr th:only-of-type {\n",
       "        vertical-align: middle;\n",
       "    }\n",
       "\n",
       "    .dataframe tbody tr th {\n",
       "        vertical-align: top;\n",
       "    }\n",
       "\n",
       "    .dataframe thead th {\n",
       "        text-align: right;\n",
       "    }\n",
       "</style>\n",
       "<table border=\"1\" class=\"dataframe\">\n",
       "  <thead>\n",
       "    <tr style=\"text-align: right;\">\n",
       "      <th></th>\n",
       "      <th>Players</th>\n",
       "      <th>Values</th>\n",
       "      <th>Number</th>\n",
       "      <th>BDay</th>\n",
       "      <th>Club</th>\n",
       "      <th>Position</th>\n",
       "      <th>Size</th>\n",
       "      <th>Birth Place</th>\n",
       "      <th>Leauge</th>\n",
       "      <th>Age</th>\n",
       "      <th>Lon</th>\n",
       "      <th>Lat</th>\n",
       "      <th>country</th>\n",
       "    </tr>\n",
       "  </thead>\n",
       "  <tbody>\n",
       "    <tr>\n",
       "      <th>0</th>\n",
       "      <td>Ederson</td>\n",
       "      <td>56.0</td>\n",
       "      <td>31</td>\n",
       "      <td>1993-08-17</td>\n",
       "      <td>Manchester City</td>\n",
       "      <td>Torwart</td>\n",
       "      <td>188.0</td>\n",
       "      <td>Osasco (SP)</td>\n",
       "      <td>Premier League</td>\n",
       "      <td>27</td>\n",
       "      <td>-46.791680</td>\n",
       "      <td>-23.532486</td>\n",
       "      <td>Brasil</td>\n",
       "    </tr>\n",
       "    <tr>\n",
       "      <th>1</th>\n",
       "      <td>Claudio Bravo</td>\n",
       "      <td>1.2</td>\n",
       "      <td>1</td>\n",
       "      <td>1983-04-13</td>\n",
       "      <td>Manchester City</td>\n",
       "      <td>Torwart</td>\n",
       "      <td>184.0</td>\n",
       "      <td>Viluco</td>\n",
       "      <td>Premier League</td>\n",
       "      <td>37</td>\n",
       "      <td>-71.159347</td>\n",
       "      <td>-34.896282</td>\n",
       "      <td>Chile</td>\n",
       "    </tr>\n",
       "    <tr>\n",
       "      <th>2</th>\n",
       "      <td>John Stones</td>\n",
       "      <td>36.0</td>\n",
       "      <td>5</td>\n",
       "      <td>1994-05-28</td>\n",
       "      <td>Manchester City</td>\n",
       "      <td>Innenverteidiger</td>\n",
       "      <td>188.0</td>\n",
       "      <td>Barnsley</td>\n",
       "      <td>Premier League</td>\n",
       "      <td>26</td>\n",
       "      <td>-1.482776</td>\n",
       "      <td>53.552772</td>\n",
       "      <td>United Kingdom</td>\n",
       "    </tr>\n",
       "  </tbody>\n",
       "</table>\n",
       "</div>"
      ],
      "text/plain": [
       "         Players  Values Number       BDay             Club  \\\n",
       "0        Ederson    56.0     31 1993-08-17  Manchester City   \n",
       "1  Claudio Bravo     1.2      1 1983-04-13  Manchester City   \n",
       "2    John Stones    36.0      5 1994-05-28  Manchester City   \n",
       "\n",
       "                                       Position   Size  Birth Place  \\\n",
       "0           Torwart                              188.0  Osasco (SP)   \n",
       "1           Torwart                              184.0       Viluco   \n",
       "2  Innenverteidiger                              188.0     Barnsley   \n",
       "\n",
       "           Leauge  Age        Lon        Lat         country  \n",
       "0  Premier League   27 -46.791680 -23.532486          Brasil  \n",
       "1  Premier League   37 -71.159347 -34.896282           Chile  \n",
       "2  Premier League   26  -1.482776  53.552772  United Kingdom  "
      ]
     },
     "execution_count": 29,
     "metadata": {},
     "output_type": "execute_result"
    }
   ],
   "source": [
    "df[\"Values\"] = df.apply(lambda row: row[\"Values\"] / 1000000, axis=1)\n",
    "df.head(3)"
   ]
  },
  {
   "cell_type": "markdown",
   "metadata": {},
   "source": [
    "Nun werden die Values aus optischen Gründen in Millionnen angegeben. Dafür wird jeder Marktwert geteilt."
   ]
  },
  {
   "cell_type": "code",
   "execution_count": 30,
   "metadata": {},
   "outputs": [
    {
     "data": {
      "text/html": [
       "<div>\n",
       "<style scoped>\n",
       "    .dataframe tbody tr th:only-of-type {\n",
       "        vertical-align: middle;\n",
       "    }\n",
       "\n",
       "    .dataframe tbody tr th {\n",
       "        vertical-align: top;\n",
       "    }\n",
       "\n",
       "    .dataframe thead th {\n",
       "        text-align: right;\n",
       "    }\n",
       "</style>\n",
       "<table border=\"1\" class=\"dataframe\">\n",
       "  <thead>\n",
       "    <tr style=\"text-align: right;\">\n",
       "      <th></th>\n",
       "      <th>Values</th>\n",
       "      <th>Size</th>\n",
       "      <th>Age</th>\n",
       "      <th>Lon</th>\n",
       "      <th>Lat</th>\n",
       "    </tr>\n",
       "  </thead>\n",
       "  <tbody>\n",
       "    <tr>\n",
       "      <th>count</th>\n",
       "      <td>20914.000000</td>\n",
       "      <td>17816.000000</td>\n",
       "      <td>20914.000000</td>\n",
       "      <td>20914.000000</td>\n",
       "      <td>20914.000000</td>\n",
       "    </tr>\n",
       "    <tr>\n",
       "      <th>mean</th>\n",
       "      <td>3.064455</td>\n",
       "      <td>182.398181</td>\n",
       "      <td>25.978866</td>\n",
       "      <td>12.200817</td>\n",
       "      <td>41.717974</td>\n",
       "    </tr>\n",
       "    <tr>\n",
       "      <th>std</th>\n",
       "      <td>9.359818</td>\n",
       "      <td>6.677803</td>\n",
       "      <td>4.721866</td>\n",
       "      <td>28.632888</td>\n",
       "      <td>18.934170</td>\n",
       "    </tr>\n",
       "    <tr>\n",
       "      <th>min</th>\n",
       "      <td>0.025000</td>\n",
       "      <td>158.000000</td>\n",
       "      <td>16.000000</td>\n",
       "      <td>-123.113953</td>\n",
       "      <td>-41.500083</td>\n",
       "    </tr>\n",
       "    <tr>\n",
       "      <th>25%</th>\n",
       "      <td>0.150000</td>\n",
       "      <td>178.000000</td>\n",
       "      <td>22.000000</td>\n",
       "      <td>4.269680</td>\n",
       "      <td>40.792949</td>\n",
       "    </tr>\n",
       "    <tr>\n",
       "      <th>50%</th>\n",
       "      <td>0.325000</td>\n",
       "      <td>183.000000</td>\n",
       "      <td>26.000000</td>\n",
       "      <td>14.248783</td>\n",
       "      <td>46.314395</td>\n",
       "    </tr>\n",
       "    <tr>\n",
       "      <th>75%</th>\n",
       "      <td>1.200000</td>\n",
       "      <td>187.000000</td>\n",
       "      <td>29.000000</td>\n",
       "      <td>23.728305</td>\n",
       "      <td>51.507322</td>\n",
       "    </tr>\n",
       "    <tr>\n",
       "      <th>max</th>\n",
       "      <td>180.000000</td>\n",
       "      <td>204.000000</td>\n",
       "      <td>45.000000</td>\n",
       "      <td>176.167505</td>\n",
       "      <td>70.049628</td>\n",
       "    </tr>\n",
       "  </tbody>\n",
       "</table>\n",
       "</div>"
      ],
      "text/plain": [
       "             Values          Size           Age           Lon           Lat\n",
       "count  20914.000000  17816.000000  20914.000000  20914.000000  20914.000000\n",
       "mean       3.064455    182.398181     25.978866     12.200817     41.717974\n",
       "std        9.359818      6.677803      4.721866     28.632888     18.934170\n",
       "min        0.025000    158.000000     16.000000   -123.113953    -41.500083\n",
       "25%        0.150000    178.000000     22.000000      4.269680     40.792949\n",
       "50%        0.325000    183.000000     26.000000     14.248783     46.314395\n",
       "75%        1.200000    187.000000     29.000000     23.728305     51.507322\n",
       "max      180.000000    204.000000     45.000000    176.167505     70.049628"
      ]
     },
     "execution_count": 30,
     "metadata": {},
     "output_type": "execute_result"
    }
   ],
   "source": [
    "df.describe()"
   ]
  },
  {
   "cell_type": "markdown",
   "metadata": {},
   "source": [
    "Anhand dieser Tabelle kann man bereits erste statistische Werte ablesen. So zeigte diese zum einen mit dem Wert 20914 bei count an wie viele Spielerdaten mithilfe des Crawlers erfasst wurden. Die Differenz der count Kennzahl zwischen Values und Size kommt dadurch zustande, dass nicht alle Größen der Spieler bekannt sind und somit eine Differenz von 3098 entsteht. Die Lon und Lat brauchen hierbei nicht beachtet werden, da diese ausschließlich zur Standort Bestimmung eines jeden Spielers dient. Der Mittelwert der Daten lässt sich in der mean Spalte ablesen. So liegt die Durchschnittsgröße der Spieler bei ca. 182,40, das Durchschnittsalter bei 25,98 Jahren und die Durchschnittliche Marktwert bei 3,064 Mio €. Zusätzlich kann man bereits die obere und untere Grenzen der Daten ablesen. So ist der kleinste Spieler 158,00 cm groß und der größte 204,00 cm. Bei den Marktwerten liegt die untere Grenze bei 0,025 Mio € und der höchste Marktwert liegt bei 180 Mio. €."
   ]
  },
  {
   "cell_type": "code",
   "execution_count": 31,
   "metadata": {},
   "outputs": [
    {
     "data": {
      "text/plain": [
       "Text(0.5, 1.0, 'Marktwert im Verhältnis zum Alter der Spieler')"
      ]
     },
     "execution_count": 31,
     "metadata": {},
     "output_type": "execute_result"
    },
    {
     "data": {
      "image/png": "[encoded data removed]",
      "text/plain": [
       "<Figure size 432x288 with 1 Axes>"
      ]
     },
     "metadata": {
      "needs_background": "light"
     },
     "output_type": "display_data"
    }
   ],
   "source": [
    "df.plot.scatter(x='Age',y='Values',c='Blue')\n",
    "plt.ylabel(\"Marktwert in Mio €\")\n",
    "plt.xlabel(\"Alter\")\n",
    "plt.title(\"Marktwert im Verhältnis zum Alter der Spieler\")"
   ]
  },
  {
   "cell_type": "markdown",
   "metadata": {},
   "source": [
    "Das Punktediagramm zeigt nochmals die Verteilung der Jahre in der Fußballbranche sowie die Marktwerthöhen. Man kann hier auch bereits erste Erkenntnisse daraus ziehen, dass die höchsten Marktwerte der Spieler im Alter von 22 bis 30 erzielt werden. Des weiteren kann man sehen, dass der Spieler mit 175 Mio. € Marktwert einen großen Abstand zu den darunter liegenden hat."
   ]
  },
  {
   "cell_type": "code",
   "execution_count": 32,
   "metadata": {},
   "outputs": [
    {
     "data": {
      "image/png": "[encoded data removed]",
      "text/plain": [
       "<Figure size 432x288 with 1 Axes>"
      ]
     },
     "metadata": {
      "needs_background": "light"
     },
     "output_type": "display_data"
    }
   ],
   "source": [
    "df.boxplot(column=\"Age\")\n",
    "plt.ylabel(\"Alter\")\n",
    "plt.title(\"Boxplot über das Alter der Spieler\")\n",
    "plt.show()"
   ]
  },
  {
   "cell_type": "markdown",
   "metadata": {},
   "source": [
    "Der Boxplot symbolisiert nochmals die Werte, welche das df.describe bereits berechnet hat in grafischer Form, so sieht man das Alter der Fußballspieler auf einem Blick. So kann man anhand des Boxplots erkennen, \n",
    "dass das Durchschnittsalter der Fußballspieler bei 26 liegt. Der jüngste Fußballspieler ist 16 und der älteste 39. Ebenfalls lässt sich das obere und untere Quartil ablesen.\n",
    "\n",
    "Die Quartile weißen dabei folgende Eigenschaften aus:\n",
    "•\tUnteres Quartil: Es sind maximal ein Viertel aller Werte unterhalb dieses Quartils und maximal drei Viertel über diesem Wert. In der Grafik oberhalb ist dies die untere Waagerechte Linie des Rechtecks.\n",
    "•\tObers Quartil: Hier sind maximal drei Viertel aller Werte unterhalb dieses Wertes sowie maximal ein Viertel über ihn. In der Grafik oberhalb ist dies die obere Waagerechte Linie des Rechtecks."
   ]
  },
  {
   "cell_type": "code",
   "execution_count": 33,
   "metadata": {},
   "outputs": [
    {
     "data": {
      "image/png": "[encoded data removed]",
      "text/plain": [
       "<Figure size 432x288 with 1 Axes>"
      ]
     },
     "metadata": {
      "needs_background": "light"
     },
     "output_type": "display_data"
    }
   ],
   "source": [
    "df.boxplot(column=\"Values\", vert=False,)\n",
    "plt.ylabel(\"Marktwert\")\n",
    "plt.title(\"Boxplot über die Marktwerte der Spieler\")\n",
    "plt.show()"
   ]
  },
  {
   "cell_type": "markdown",
   "metadata": {},
   "source": [
    "Das Gleiche wird hier dann nochmal für den Marktwert der Spieler gemacht. \n",
    "Hier ist dies allerdings nicht sehr aussagekräftig, da die Werte sehr groß sind und stark streuen."
   ]
  },
  {
   "cell_type": "code",
   "execution_count": 34,
   "metadata": {},
   "outputs": [
    {
     "data": {
      "text/plain": [
       "Text(0.5, 1.0, 'Die Top 10 Spieler Sortiert nach Marktwert')"
      ]
     },
     "execution_count": 34,
     "metadata": {},
     "output_type": "execute_result"
    },
    {
     "data": {
      "image/png": "[encoded data removed]",
      "text/plain": [
       "<Figure size 432x288 with 1 Axes>"
      ]
     },
     "metadata": {
      "needs_background": "light"
     },
     "output_type": "display_data"
    }
   ],
   "source": [
    "unique_players = df[['Players','Values']].drop_duplicates(subset=\"Players\", keep=\"first\")\n",
    "first_ten_player = unique_players[['Players','Values']].sort_values(by=['Values'], ascending=False)[:10]\n",
    "first_ten_player.plot(x='Players',y='Values' ,kind=\"bar\", rot=70)\n",
    "plt.ylabel(\"Marktwert in Mio €\")\n",
    "plt.title(\"Die Top 10 Spieler Sortiert nach Marktwert\")"
   ]
  },
  {
   "cell_type": "markdown",
   "metadata": {},
   "source": [
    "Die folgenden Balkendiagramme (Bar Graph) sollen die Top 10 an Klubs sowie Spieler von „analyse_transfermarkt.ipynb“ visualisieren. Das Balkendiagramm eignet sich gut, um die hier bestehenden Differenzen der einzelnen Elemente anzeigen zu lassen.\n",
    "Man sieht hier bereits den großen Abstand, welcher Platz 1 und 2 trennt. Hier ist eine Differenz von knapp 50 Mio. € zuerkennen. Im Gegensatz dazu ist die Differenz zwischen den nachfolgenden Plätzen relativ gering. Was die Besonderheit des Spielers „Kylian Mbappe“ andeutet."
   ]
  },
  {
   "cell_type": "code",
   "execution_count": 35,
   "metadata": {},
   "outputs": [
    {
     "name": "stdout",
     "output_type": "stream",
     "text": [
      "                   Values\n",
      "Club                     \n",
      "Paris SG         3386.800\n",
      "Real Madrid      2665.500\n",
      "FC Liverpool     2573.100\n",
      "FC Barcelona     2530.950\n",
      "Bayern München   2251.125\n",
      "...                   ...\n",
      "Orenburg II         0.025\n",
      "Charleroi Res.      0.025\n",
      "Olimp. Sarajevo     0.025\n",
      "Mikkelin            0.025\n",
      " FC Boca Gib        0.025\n",
      "\n",
      "[1080 rows x 1 columns]\n"
     ]
    },
    {
     "data": {
      "text/plain": [
       "Text(0.5, 1.0, 'Die Top 10 Clubs Sortiert nach Marktwert')"
      ]
     },
     "execution_count": 35,
     "metadata": {},
     "output_type": "execute_result"
    },
    {
     "data": {
      "image/png": "[encoded data removed]",
      "text/plain": [
       "<Figure size 432x288 with 1 Axes>"
      ]
     },
     "metadata": {
      "needs_background": "light"
     },
     "output_type": "display_data"
    }
   ],
   "source": [
    "group_club = df[['Values','Club']]\n",
    "group_club = group_club.groupby(['Club']).sum()\n",
    "print(group_club.sort_values(by=['Values'], ascending=False))\n",
    "first_ten_group_club = group_club.sort_values(by=['Values'], ascending=False)[:10]\n",
    "first_ten_group_club['Values'].plot(kind=\"bar\", rot=70)\n",
    "plt.ylabel(\"Marktwert in Mio €\")\n",
    "plt.title(\"Die Top 10 Clubs Sortiert nach Marktwert\")"
   ]
  },
  {
   "cell_type": "markdown",
   "metadata": {},
   "source": [
    "Hier wird die Liste nach dem jeweiligen Verein gruppiert und sortiert. Dabei werden die Marktwerte zusammensummiert, um so eine Gesamtsumme der Marktwerte für den jeweiligen Klub zu erhalten. Nun wurde ein Balkendiagramm aus den ersten 10 Klubs gemacht. \n",
    "Auch die Sortierung nach Klubs gibt es ein Team, was hervorsticht, dies ist hier Paris SG. Eine weitere Auffälligkeit fällt auf, wenn man sich das Herkunftsland der Teams anguckt.\n",
    "\n",
    "| Frankreich | Spanien         | England           | Deutschland    | Italien        |\n",
    "|------------|-----------------|-------------------|----------------|----------------|\n",
    "| Paris SG   | Real Madrid     | FC Liverpool      | Bayern München | Juventus Turin |\n",
    "|            | FC Barcelona.   | Manchester City   | Bor. Dortmund  |                |\n",
    "|            | Atletico Madrid | Manchester United |                |                |\n",
    "\n",
    "Paris ist auf Platz 1. Der Marktwerte jedoch auch der einzige Vertreter der französischen Liga (Lique 1). Die Spanische, Englische und auch die Deutsche Liga haben mindestens 2 Vertreter in den Top 10. \n",
    "Zeigen tut dies, das in diesen Ligen mehrere Top Klubs vorhanden sind und somit ein größerer Konkurrenzkamp im Bezug zur Meisterschaft besteht.\n"
   ]
  },
  {
   "cell_type": "code",
   "execution_count": 36,
   "metadata": {},
   "outputs": [
    {
     "name": "stdout",
     "output_type": "stream",
     "text": [
      "          Values       Age      Size\n",
      "Values  1.000000  0.013908 -0.024825\n",
      "Age     0.013908  1.000000  0.071756\n",
      "Size   -0.024825  0.071756  1.000000\n"
     ]
    },
    {
     "data": {
      "text/plain": [
       "Text(0.5, 1, 'Korrelation zwischen Alter, Marktwert Age')"
      ]
     },
     "execution_count": 36,
     "metadata": {},
     "output_type": "execute_result"
    },
    {
     "data": {
      "image/png": "[encoded data removed]",
      "text/plain": [
       "<Figure size 432x288 with 2 Axes>"
      ]
     },
     "metadata": {
      "needs_background": "light"
     },
     "output_type": "display_data"
    }
   ],
   "source": [
    "import seaborn as sn # Wird genutzt um folgende Heatmap zu erstellen.\n",
    "dfcorr = df[['Values', 'Age' ,'Size']]\n",
    "corrMatrix = dfcorr.corr()\n",
    "print (corrMatrix)\n",
    "sn.heatmap(corrMatrix, annot=True)\n",
    "plt.title(\"Korrelation zwischen Alter, Marktwert Age\")"
   ]
  },
  {
   "cell_type": "markdown",
   "metadata": {},
   "source": [
    "Eine Korrelation hilft dabei, Beziehungen zwischen gewissen Merkmalen zu analysieren. Dabei wird ein Korrelationskoeffizient berechnet, welcher einen Wert zwischen -1 und +1 annehmen kann und dabei eine Aussage über die Beziehung der Merkmale gibt. Die obere Matrix visualisiert das Ergebnis der Korrelation nochmals mit Farbe. Hierdurch lässt sich die Ausprägung der Beziehungen übersichtlich darstellen. Je heller ein Quadrat in der Matrix ist, desto stärker ist die Beziehung zwischen den Merkmalen.\n",
    "\n",
    "Anhand der obigen Grafik lässt sich erkennen, dass die Beziehungen zwischen den Merkmalen nicht sehr stark ist und somit kein direkter Zusammenhang zwischen den Marktwert und dem Alter oder der Größe eines Fußballspielers besteht."
   ]
  },
  {
   "cell_type": "code",
   "execution_count": 37,
   "metadata": {},
   "outputs": [
    {
     "data": {
      "text/html": [
       "<div>\n",
       "<style scoped>\n",
       "    .dataframe tbody tr th:only-of-type {\n",
       "        vertical-align: middle;\n",
       "    }\n",
       "\n",
       "    .dataframe tbody tr th {\n",
       "        vertical-align: top;\n",
       "    }\n",
       "\n",
       "    .dataframe thead th {\n",
       "        text-align: right;\n",
       "    }\n",
       "</style>\n",
       "<table border=\"1\" class=\"dataframe\">\n",
       "  <thead>\n",
       "    <tr style=\"text-align: right;\">\n",
       "      <th></th>\n",
       "      <th>country</th>\n",
       "      <th>Values</th>\n",
       "      <th>Sum</th>\n",
       "    </tr>\n",
       "  </thead>\n",
       "  <tbody>\n",
       "    <tr>\n",
       "      <th>0</th>\n",
       "      <td>Brasil</td>\n",
       "      <td>56.000</td>\n",
       "      <td>5799.15</td>\n",
       "    </tr>\n",
       "    <tr>\n",
       "      <th>1</th>\n",
       "      <td>Chile</td>\n",
       "      <td>1.200</td>\n",
       "      <td>96.60</td>\n",
       "    </tr>\n",
       "    <tr>\n",
       "      <th>2</th>\n",
       "      <td>United Kingdom</td>\n",
       "      <td>36.000</td>\n",
       "      <td>5789.95</td>\n",
       "    </tr>\n",
       "    <tr>\n",
       "      <th>3</th>\n",
       "      <td>España</td>\n",
       "      <td>6.300</td>\n",
       "      <td>5651.10</td>\n",
       "    </tr>\n",
       "    <tr>\n",
       "      <th>5</th>\n",
       "      <td>Україна</td>\n",
       "      <td>24.000</td>\n",
       "      <td>518.45</td>\n",
       "    </tr>\n",
       "    <tr>\n",
       "      <th>...</th>\n",
       "      <td>...</td>\n",
       "      <td>...</td>\n",
       "      <td>...</td>\n",
       "    </tr>\n",
       "    <tr>\n",
       "      <th>10871</th>\n",
       "      <td>Eritrea</td>\n",
       "      <td>0.050</td>\n",
       "      <td>0.20</td>\n",
       "    </tr>\n",
       "    <tr>\n",
       "      <th>10906</th>\n",
       "      <td>Montserrat</td>\n",
       "      <td>0.050</td>\n",
       "      <td>0.05</td>\n",
       "    </tr>\n",
       "    <tr>\n",
       "      <th>14936</th>\n",
       "      <td>San Marino</td>\n",
       "      <td>0.025</td>\n",
       "      <td>1.30</td>\n",
       "    </tr>\n",
       "    <tr>\n",
       "      <th>15679</th>\n",
       "      <td>Bahamas</td>\n",
       "      <td>0.100</td>\n",
       "      <td>0.10</td>\n",
       "    </tr>\n",
       "    <tr>\n",
       "      <th>20100</th>\n",
       "      <td>República de Guinea Ecuatorial;République de G...</td>\n",
       "      <td>1.500</td>\n",
       "      <td>6.00</td>\n",
       "    </tr>\n",
       "  </tbody>\n",
       "</table>\n",
       "<p>155 rows × 3 columns</p>\n",
       "</div>"
      ],
      "text/plain": [
       "                                                 country  Values      Sum\n",
       "0                                                 Brasil  56.000  5799.15\n",
       "1                                                  Chile   1.200    96.60\n",
       "2                                         United Kingdom  36.000  5789.95\n",
       "3                                                 España   6.300  5651.10\n",
       "5                                                Україна  24.000   518.45\n",
       "...                                                  ...     ...      ...\n",
       "10871                                            Eritrea   0.050     0.20\n",
       "10906                                         Montserrat   0.050     0.05\n",
       "14936                                         San Marino   0.025     1.30\n",
       "15679                                            Bahamas   0.100     0.10\n",
       "20100  República de Guinea Ecuatorial;République de G...   1.500     6.00\n",
       "\n",
       "[155 rows x 3 columns]"
      ]
     },
     "execution_count": 37,
     "metadata": {},
     "output_type": "execute_result"
    }
   ],
   "source": [
    "country_value = df[['country', 'Values']]\n",
    "group_country = df[['country', 'Values']].groupby(\"country\")\n",
    "sum_group_country = group_country.sum().rename(columns={'Values':'Sum'})\n",
    "country_value = country_value.merge(sum_group_country, left_on='country', right_index=True)\n",
    "#country_value['Sum'] = group_country.transform('sum')\n",
    "country_value = country_value.drop_duplicates(subset=\"country\", keep=\"first\")\n",
    "country_value"
   ]
  },
  {
   "cell_type": "markdown",
   "metadata": {},
   "source": [
    "Marktwert Summe für jedes Land bilden und diese dann als z in der Map definieren."
   ]
  },
  {
   "cell_type": "code",
   "execution_count": 38,
   "metadata": {
    "scrolled": true
   },
   "outputs": [
    {
     "data": {
      "text/html": [
       "        <script type=\"text/javascript\">\n",
       "        window.PlotlyConfig = {MathJaxConfig: 'local'};\n",
       "        if (window.MathJax) {MathJax.Hub.Config({SVG: {font: \"STIX-Web\"}});}\n",
       "        if (typeof require !== 'undefined') {\n",
       "        require.undef(\"plotly\");\n",
       "        requirejs.config({\n",
       "            paths: {\n",
       "                'plotly': ['https://cdn.plot.ly/plotly-latest.min']\n",
       "            }\n",
       "        });\n",
       "        require(['plotly'], function(Plotly) {\n",
       "            window._Plotly = Plotly;\n",
       "        });\n",
       "        }\n",
       "        </script>\n",
       "        "
      ]
     },
     "metadata": {},
     "output_type": "display_data"
    },
    {
     "data": {
      "application/vnd.plotly.v1+json": {
       "config": {
        "linkText": "Export to plot.ly",
        "plotlyServerURL": "https://plot.ly",
        "showLink": false
       },
       "data": [
        {
         "colorbar": {
          "title": {
           "text": "Marktwert"
          }
         },
         "locationmode": "country names",
         "locations": [
          "Brasil",
          "Chile",
          "United Kingdom",
          "España",
          "Україна",
          "Portugal",
          "Jamaika",
          "Argentina",
          "Switzerland",
          "France",
          "Deutschland",
          "België - Belgique - Belgien",
          "日本 (Japan)",
          "Nederland",
          "Colombia",
          "대한민국",
          "United States of America",
          "Bolivia",
          "Australia",
          "Côte d'Ivoire",
          "São Tomé e Príncipe",
          "Nigeria",
          "Sverige",
          "République Démocratique du Congo",
          "Србија (Serbia)",
          "Ísland",
          "Sénégal",
          "Danmark",
          "Ireland",
          "Italia",
          "Ecuador",
          "Polska",
          "South Africa",
          "Norge",
          "Egypt / مصر",
          "Zimbabwe",
          "Tanzania",
          "Österreich",
          "Maroc",
          "Venezuela",
          "Sierra Leone",
          "Guiné-Bissau",
          "Bosna i Hercegovina",
          "Guinée",
          "Kosova",
          "Canada",
          "Ελλάδα",
          "Uruguay",
          "Türkiye",
          "Hrvatska",
          "Ghana",
          "Paraguay",
          "Česká republika",
          "Россия",
          "Slovensko",
          "Mali",
          "Guatemala",
          "ایران",
          "New Zealand",
          "Монгол Улс",
          "Suomi",
          "México",
          "Shqipëria",
          "Cuba",
          "Македонија",
          "Eesti",
          "Moldova",
          "Slovenija",
          "România",
          "The Gambia",
          "República de El Salvador",
          "Cameroon;Cameroun",
          "Armenia",
          "Angola",
          "República Dominicana",
          "Indonesia",
          "Peru",
          "الجزائر",
          "Cabo Verde",
          "Crna Gora",
          "Comores;ﺍﻟﻘﻤﺮي;Komori",
          "Tchad / تشاد",
          "Togo",
          "Centrafrique",
          "Burkina Faso",
          "Mozambique",
          "Gabon",
          "Kyrgyzstan",
          "Беларусь",
          "Zambia",
          "Kazakhstan",
          "Georgia / საქართველო",
          "Latvija",
          "Tajikistan",
          "България",
          "ישראל",
          "Madagascar",
          "Uzbekistan",
          "Luxembourg",
          "Iraq",
          "Κύπρος",
          "Kenya",
          "Magyarország",
          "République du Congo",
          "Trinidad and Tobago",
          "Panama",
          "Honduras",
          "Burundi",
          "تونس",
          "Costa Rica",
          "Rwanda",
          "Lietuva",
          "Somalia / الصومال",
          "북조선",
          "Bénin",
          "Uganda",
          "Malaysia",
          "Saudi Arabia / السعودية",
          "Niger",
          "Haiti",
          "India",
          "Türkmenistan",
          "Føroyar/Færøerne",
          "Ethiopia",
          "Andorra",
          "China 中国",
          "Sūriyya سوريا",
          "Monaco",
          "Việt Nam",
          "لبنان  Lebanon",
          "Liberia",
          "Libya / ليبيا",
          "Belize",
          "موريتانيا",
          "United Arab Emirates",
          "Liechtenstein",
          "Azerbaijan",
          "البحرين",
          "Jordan / الأُرْدُن",
          "Suriname",
          "Gibraltar",
          "Papua New Guinea",
          "Afghanistan",
          "Palestinian Territory",
          "السودان ‎al-Sūdān",
          "Botswana",
          "Namibia",
          "Malta",
          "Philippines",
          "Nicaragua",
          "Eritrea",
          "Montserrat",
          "San Marino",
          "Bahamas",
          "República de Guinea Ecuatorial;République de Guinée équatoriale;República da Guiné Equatorial"
         ],
         "text": [
          "Brasil",
          "Chile",
          "United Kingdom",
          "España",
          "Україна",
          "Portugal",
          "Jamaika",
          "Argentina",
          "Switzerland",
          "France",
          "Deutschland",
          "België - Belgique - Belgien",
          "日本 (Japan)",
          "Nederland",
          "Colombia",
          "대한민국",
          "United States of America",
          "Bolivia",
          "Australia",
          "Côte d'Ivoire",
          "São Tomé e Príncipe",
          "Nigeria",
          "Sverige",
          "République Démocratique du Congo",
          "Србија (Serbia)",
          "Ísland",
          "Sénégal",
          "Danmark",
          "Ireland",
          "Italia",
          "Ecuador",
          "Polska",
          "South Africa",
          "Norge",
          "Egypt / مصر",
          "Zimbabwe",
          "Tanzania",
          "Österreich",
          "Maroc",
          "Venezuela",
          "Sierra Leone",
          "Guiné-Bissau",
          "Bosna i Hercegovina",
          "Guinée",
          "Kosova",
          "Canada",
          "Ελλάδα",
          "Uruguay",
          "Türkiye",
          "Hrvatska",
          "Ghana",
          "Paraguay",
          "Česká republika",
          "Россия",
          "Slovensko",
          "Mali",
          "Guatemala",
          "ایران",
          "New Zealand",
          "Монгол Улс",
          "Suomi",
          "México",
          "Shqipëria",
          "Cuba",
          "Македонија",
          "Eesti",
          "Moldova",
          "Slovenija",
          "România",
          "The Gambia",
          "República de El Salvador",
          "Cameroon;Cameroun",
          "Armenia",
          "Angola",
          "República Dominicana",
          "Indonesia",
          "Peru",
          "الجزائر",
          "Cabo Verde",
          "Crna Gora",
          "Comores;ﺍﻟﻘﻤﺮي;Komori",
          "Tchad / تشاد",
          "Togo",
          "Centrafrique",
          "Burkina Faso",
          "Mozambique",
          "Gabon",
          "Kyrgyzstan",
          "Беларусь",
          "Zambia",
          "Kazakhstan",
          "Georgia / საქართველო",
          "Latvija",
          "Tajikistan",
          "България",
          "ישראל",
          "Madagascar",
          "Uzbekistan",
          "Luxembourg",
          "Iraq",
          "Κύπρος",
          "Kenya",
          "Magyarország",
          "République du Congo",
          "Trinidad and Tobago",
          "Panama",
          "Honduras",
          "Burundi",
          "تونس",
          "Costa Rica",
          "Rwanda",
          "Lietuva",
          "Somalia / الصومال",
          "북조선",
          "Bénin",
          "Uganda",
          "Malaysia",
          "Saudi Arabia / السعودية",
          "Niger",
          "Haiti",
          "India",
          "Türkmenistan",
          "Føroyar/Færøerne",
          "Ethiopia",
          "Andorra",
          "China 中国",
          "Sūriyya سوريا",
          "Monaco",
          "Việt Nam",
          "لبنان  Lebanon",
          "Liberia",
          "Libya / ليبيا",
          "Belize",
          "موريتانيا",
          "United Arab Emirates",
          "Liechtenstein",
          "Azerbaijan",
          "البحرين",
          "Jordan / الأُرْدُن",
          "Suriname",
          "Gibraltar",
          "Papua New Guinea",
          "Afghanistan",
          "Palestinian Territory",
          "السودان ‎al-Sūdān",
          "Botswana",
          "Namibia",
          "Malta",
          "Philippines",
          "Nicaragua",
          "Eritrea",
          "Montserrat",
          "San Marino",
          "Bahamas",
          "República de Guinea Ecuatorial;République de Guinée équatoriale;República da Guiné Equatorial"
         ],
         "type": "choropleth",
         "z": [
          56,
          1.2,
          36,
          6.3,
          24,
          36,
          128,
          52,
          1.8,
          60,
          40,
          120,
          0.45,
          0.8,
          48,
          64,
          2.8,
          13.5,
          2,
          16,
          13.5,
          5.2,
          28,
          8,
          16,
          22.5,
          3.2,
          3.2,
          9.5,
          25,
          1.8,
          0.4,
          1.6,
          16,
          8,
          8,
          9.5,
          0.4,
          5.5,
          1,
          4.8,
          3.2,
          16,
          33.5,
          16,
          16,
          14.5,
          36,
          32,
          7,
          5.5,
          9.5,
          12,
          9.5,
          5.5,
          11,
          11,
          6.5,
          14.5,
          3.2,
          8,
          72,
          13,
          48,
          15.5,
          1.2,
          3.5,
          1.2,
          4.8,
          11,
          4.8,
          3.2,
          20,
          3.2,
          5.5,
          12,
          3.2,
          6.5,
          20,
          6.5,
          0.15,
          2.4,
          1.8,
          0.8,
          9.5,
          2.4,
          2.2,
          6,
          0.675,
          9.5,
          1.4,
          2.3,
          0.8,
          0.2,
          0.95,
          0.4,
          2.2,
          5.2,
          1.6,
          0.3,
          4.8,
          0.4,
          1.4,
          0.525,
          0.675,
          2.8,
          0.95,
          3,
          1.6,
          0.3,
          0.475,
          0.175,
          0.1,
          0.475,
          0.55,
          0.05,
          0.8,
          0.475,
          0.05,
          0.1,
          0.325,
          0.15,
          0.3,
          0.2,
          0.2,
          8,
          1.4,
          2.4,
          0.15,
          0.05,
          1,
          0.65,
          4.8,
          0.675,
          0.075,
          0.325,
          0.675,
          0.4,
          0.325,
          0.15,
          0.275,
          0.25,
          0.2,
          0.325,
          0.2,
          0.325,
          0.15,
          0.225,
          0.275,
          0.25,
          0.05,
          0.05,
          0.025,
          0.1,
          1.5
         ]
        }
       ],
       "layout": {
        "geo": {
         "projection": {
          "type": "mercator"
         },
         "showframe": false
        },
        "template": {
         "data": {
          "bar": [
           {
            "error_x": {
             "color": "#2a3f5f"
            },
            "error_y": {
             "color": "#2a3f5f"
            },
            "marker": {
             "line": {
              "color": "#E5ECF6",
              "width": 0.5
             }
            },
            "type": "bar"
           }
          ],
          "barpolar": [
           {
            "marker": {
             "line": {
              "color": "#E5ECF6",
              "width": 0.5
             }
            },
            "type": "barpolar"
           }
          ],
          "carpet": [
           {
            "aaxis": {
             "endlinecolor": "#2a3f5f",
             "gridcolor": "white",
             "linecolor": "white",
             "minorgridcolor": "white",
             "startlinecolor": "#2a3f5f"
            },
            "baxis": {
             "endlinecolor": "#2a3f5f",
             "gridcolor": "white",
             "linecolor": "white",
             "minorgridcolor": "white",
             "startlinecolor": "#2a3f5f"
            },
            "type": "carpet"
           }
          ],
          "choropleth": [
           {
            "colorbar": {
             "outlinewidth": 0,
             "ticks": ""
            },
            "type": "choropleth"
           }
          ],
          "contour": [
           {
            "colorbar": {
             "outlinewidth": 0,
             "ticks": ""
            },
            "colorscale": [
             [
              0,
              "#0d0887"
             ],
             [
              0.1111111111111111,
              "#46039f"
             ],
             [
              0.2222222222222222,
              "#7201a8"
             ],
             [
              0.3333333333333333,
              "#9c179e"
             ],
             [
              0.4444444444444444,
              "#bd3786"
             ],
             [
              0.5555555555555556,
              "#d8576b"
             ],
             [
              0.6666666666666666,
              "#ed7953"
             ],
             [
              0.7777777777777778,
              "#fb9f3a"
             ],
             [
              0.8888888888888888,
              "#fdca26"
             ],
             [
              1,
              "#f0f921"
             ]
            ],
            "type": "contour"
           }
          ],
          "contourcarpet": [
           {
            "colorbar": {
             "outlinewidth": 0,
             "ticks": ""
            },
            "type": "contourcarpet"
           }
          ],
          "heatmap": [
           {
            "colorbar": {
             "outlinewidth": 0,
             "ticks": ""
            },
            "colorscale": [
             [
              0,
              "#0d0887"
             ],
             [
              0.1111111111111111,
              "#46039f"
             ],
             [
              0.2222222222222222,
              "#7201a8"
             ],
             [
              0.3333333333333333,
              "#9c179e"
             ],
             [
              0.4444444444444444,
              "#bd3786"
             ],
             [
              0.5555555555555556,
              "#d8576b"
             ],
             [
              0.6666666666666666,
              "#ed7953"
             ],
             [
              0.7777777777777778,
              "#fb9f3a"
             ],
             [
              0.8888888888888888,
              "#fdca26"
             ],
             [
              1,
              "#f0f921"
             ]
            ],
            "type": "heatmap"
           }
          ],
          "heatmapgl": [
           {
            "colorbar": {
             "outlinewidth": 0,
             "ticks": ""
            },
            "colorscale": [
             [
              0,
              "#0d0887"
             ],
             [
              0.1111111111111111,
              "#46039f"
             ],
             [
              0.2222222222222222,
              "#7201a8"
             ],
             [
              0.3333333333333333,
              "#9c179e"
             ],
             [
              0.4444444444444444,
              "#bd3786"
             ],
             [
              0.5555555555555556,
              "#d8576b"
             ],
             [
              0.6666666666666666,
              "#ed7953"
             ],
             [
              0.7777777777777778,
              "#fb9f3a"
             ],
             [
              0.8888888888888888,
              "#fdca26"
             ],
             [
              1,
              "#f0f921"
             ]
            ],
            "type": "heatmapgl"
           }
          ],
          "histogram": [
           {
            "marker": {
             "colorbar": {
              "outlinewidth": 0,
              "ticks": ""
             }
            },
            "type": "histogram"
           }
          ],
          "histogram2d": [
           {
            "colorbar": {
             "outlinewidth": 0,
             "ticks": ""
            },
            "colorscale": [
             [
              0,
              "#0d0887"
             ],
             [
              0.1111111111111111,
              "#46039f"
             ],
             [
              0.2222222222222222,
              "#7201a8"
             ],
             [
              0.3333333333333333,
              "#9c179e"
             ],
             [
              0.4444444444444444,
              "#bd3786"
             ],
             [
              0.5555555555555556,
              "#d8576b"
             ],
             [
              0.6666666666666666,
              "#ed7953"
             ],
             [
              0.7777777777777778,
              "#fb9f3a"
             ],
             [
              0.8888888888888888,
              "#fdca26"
             ],
             [
              1,
              "#f0f921"
             ]
            ],
            "type": "histogram2d"
           }
          ],
          "histogram2dcontour": [
           {
            "colorbar": {
             "outlinewidth": 0,
             "ticks": ""
            },
            "colorscale": [
             [
              0,
              "#0d0887"
             ],
             [
              0.1111111111111111,
              "#46039f"
             ],
             [
              0.2222222222222222,
              "#7201a8"
             ],
             [
              0.3333333333333333,
              "#9c179e"
             ],
             [
              0.4444444444444444,
              "#bd3786"
             ],
             [
              0.5555555555555556,
              "#d8576b"
             ],
             [
              0.6666666666666666,
              "#ed7953"
             ],
             [
              0.7777777777777778,
              "#fb9f3a"
             ],
             [
              0.8888888888888888,
              "#fdca26"
             ],
             [
              1,
              "#f0f921"
             ]
            ],
            "type": "histogram2dcontour"
           }
          ],
          "mesh3d": [
           {
            "colorbar": {
             "outlinewidth": 0,
             "ticks": ""
            },
            "type": "mesh3d"
           }
          ],
          "parcoords": [
           {
            "line": {
             "colorbar": {
              "outlinewidth": 0,
              "ticks": ""
             }
            },
            "type": "parcoords"
           }
          ],
          "scatter": [
           {
            "marker": {
             "colorbar": {
              "outlinewidth": 0,
              "ticks": ""
             }
            },
            "type": "scatter"
           }
          ],
          "scatter3d": [
           {
            "line": {
             "colorbar": {
              "outlinewidth": 0,
              "ticks": ""
             }
            },
            "marker": {
             "colorbar": {
              "outlinewidth": 0,
              "ticks": ""
             }
            },
            "type": "scatter3d"
           }
          ],
          "scattercarpet": [
           {
            "marker": {
             "colorbar": {
              "outlinewidth": 0,
              "ticks": ""
             }
            },
            "type": "scattercarpet"
           }
          ],
          "scattergeo": [
           {
            "marker": {
             "colorbar": {
              "outlinewidth": 0,
              "ticks": ""
             }
            },
            "type": "scattergeo"
           }
          ],
          "scattergl": [
           {
            "marker": {
             "colorbar": {
              "outlinewidth": 0,
              "ticks": ""
             }
            },
            "type": "scattergl"
           }
          ],
          "scattermapbox": [
           {
            "marker": {
             "colorbar": {
              "outlinewidth": 0,
              "ticks": ""
             }
            },
            "type": "scattermapbox"
           }
          ],
          "scatterpolar": [
           {
            "marker": {
             "colorbar": {
              "outlinewidth": 0,
              "ticks": ""
             }
            },
            "type": "scatterpolar"
           }
          ],
          "scatterpolargl": [
           {
            "marker": {
             "colorbar": {
              "outlinewidth": 0,
              "ticks": ""
             }
            },
            "type": "scatterpolargl"
           }
          ],
          "scatterternary": [
           {
            "marker": {
             "colorbar": {
              "outlinewidth": 0,
              "ticks": ""
             }
            },
            "type": "scatterternary"
           }
          ],
          "surface": [
           {
            "colorbar": {
             "outlinewidth": 0,
             "ticks": ""
            },
            "colorscale": [
             [
              0,
              "#0d0887"
             ],
             [
              0.1111111111111111,
              "#46039f"
             ],
             [
              0.2222222222222222,
              "#7201a8"
             ],
             [
              0.3333333333333333,
              "#9c179e"
             ],
             [
              0.4444444444444444,
              "#bd3786"
             ],
             [
              0.5555555555555556,
              "#d8576b"
             ],
             [
              0.6666666666666666,
              "#ed7953"
             ],
             [
              0.7777777777777778,
              "#fb9f3a"
             ],
             [
              0.8888888888888888,
              "#fdca26"
             ],
             [
              1,
              "#f0f921"
             ]
            ],
            "type": "surface"
           }
          ],
          "table": [
           {
            "cells": {
             "fill": {
              "color": "#EBF0F8"
             },
             "line": {
              "color": "white"
             }
            },
            "header": {
             "fill": {
              "color": "#C8D4E3"
             },
             "line": {
              "color": "white"
             }
            },
            "type": "table"
           }
          ]
         },
         "layout": {
          "annotationdefaults": {
           "arrowcolor": "#2a3f5f",
           "arrowhead": 0,
           "arrowwidth": 1
          },
          "colorscale": {
           "diverging": [
            [
             0,
             "#8e0152"
            ],
            [
             0.1,
             "#c51b7d"
            ],
            [
             0.2,
             "#de77ae"
            ],
            [
             0.3,
             "#f1b6da"
            ],
            [
             0.4,
             "#fde0ef"
            ],
            [
             0.5,
             "#f7f7f7"
            ],
            [
             0.6,
             "#e6f5d0"
            ],
            [
             0.7,
             "#b8e186"
            ],
            [
             0.8,
             "#7fbc41"
            ],
            [
             0.9,
             "#4d9221"
            ],
            [
             1,
             "#276419"
            ]
           ],
           "sequential": [
            [
             0,
             "#0d0887"
            ],
            [
             0.1111111111111111,
             "#46039f"
            ],
            [
             0.2222222222222222,
             "#7201a8"
            ],
            [
             0.3333333333333333,
             "#9c179e"
            ],
            [
             0.4444444444444444,
             "#bd3786"
            ],
            [
             0.5555555555555556,
             "#d8576b"
            ],
            [
             0.6666666666666666,
             "#ed7953"
            ],
            [
             0.7777777777777778,
             "#fb9f3a"
            ],
            [
             0.8888888888888888,
             "#fdca26"
            ],
            [
             1,
             "#f0f921"
            ]
           ],
           "sequentialminus": [
            [
             0,
             "#0d0887"
            ],
            [
             0.1111111111111111,
             "#46039f"
            ],
            [
             0.2222222222222222,
             "#7201a8"
            ],
            [
             0.3333333333333333,
             "#9c179e"
            ],
            [
             0.4444444444444444,
             "#bd3786"
            ],
            [
             0.5555555555555556,
             "#d8576b"
            ],
            [
             0.6666666666666666,
             "#ed7953"
            ],
            [
             0.7777777777777778,
             "#fb9f3a"
            ],
            [
             0.8888888888888888,
             "#fdca26"
            ],
            [
             1,
             "#f0f921"
            ]
           ]
          },
          "colorway": [
           "#636efa",
           "#EF553B",
           "#00cc96",
           "#ab63fa",
           "#FFA15A",
           "#19d3f3",
           "#FF6692",
           "#B6E880",
           "#FF97FF",
           "#FECB52"
          ],
          "font": {
           "color": "#2a3f5f"
          },
          "geo": {
           "bgcolor": "white",
           "lakecolor": "white",
           "landcolor": "#E5ECF6",
           "showlakes": true,
           "showland": true,
           "subunitcolor": "white"
          },
          "hoverlabel": {
           "align": "left"
          },
          "hovermode": "closest",
          "mapbox": {
           "style": "light"
          },
          "paper_bgcolor": "white",
          "plot_bgcolor": "#E5ECF6",
          "polar": {
           "angularaxis": {
            "gridcolor": "white",
            "linecolor": "white",
            "ticks": ""
           },
           "bgcolor": "#E5ECF6",
           "radialaxis": {
            "gridcolor": "white",
            "linecolor": "white",
            "ticks": ""
           }
          },
          "scene": {
           "xaxis": {
            "backgroundcolor": "#E5ECF6",
            "gridcolor": "white",
            "gridwidth": 2,
            "linecolor": "white",
            "showbackground": true,
            "ticks": "",
            "zerolinecolor": "white"
           },
           "yaxis": {
            "backgroundcolor": "#E5ECF6",
            "gridcolor": "white",
            "gridwidth": 2,
            "linecolor": "white",
            "showbackground": true,
            "ticks": "",
            "zerolinecolor": "white"
           },
           "zaxis": {
            "backgroundcolor": "#E5ECF6",
            "gridcolor": "white",
            "gridwidth": 2,
            "linecolor": "white",
            "showbackground": true,
            "ticks": "",
            "zerolinecolor": "white"
           }
          },
          "shapedefaults": {
           "line": {
            "color": "#2a3f5f"
           }
          },
          "ternary": {
           "aaxis": {
            "gridcolor": "white",
            "linecolor": "white",
            "ticks": ""
           },
           "baxis": {
            "gridcolor": "white",
            "linecolor": "white",
            "ticks": ""
           },
           "bgcolor": "#E5ECF6",
           "caxis": {
            "gridcolor": "white",
            "linecolor": "white",
            "ticks": ""
           }
          },
          "title": {
           "x": 0.05
          },
          "xaxis": {
           "automargin": true,
           "gridcolor": "white",
           "linecolor": "white",
           "ticks": "",
           "zerolinecolor": "white",
           "zerolinewidth": 2
          },
          "yaxis": {
           "automargin": true,
           "gridcolor": "white",
           "linecolor": "white",
           "ticks": "",
           "zerolinecolor": "white",
           "zerolinewidth": 2
          }
         }
        },
        "title": {
         "text": "Heatmap Marktwerte je Nationalität"
        }
       }
      },
      "text/html": [
       "<div>\n",
       "        \n",
       "        \n",
       "            <div id=\"f0a263db-bff6-425e-b52d-824322de4204\" class=\"plotly-graph-div\" style=\"height:525px; width:100%;\"></div>\n",
       "            <script type=\"text/javascript\">\n",
       "                require([\"plotly\"], function(Plotly) {\n",
       "                    window.PLOTLYENV=window.PLOTLYENV || {};\n",
       "                    \n",
       "                if (document.getElementById(\"f0a263db-bff6-425e-b52d-824322de4204\")) {\n",
       "                    Plotly.newPlot(\n",
       "                        'f0a263db-bff6-425e-b52d-824322de4204',\n",
       "                        [{\"colorbar\": {\"title\": {\"text\": \"Marktwert\"}}, \"locationmode\": \"country names\", \"locations\": [\"Brasil\", \"Chile\", \"United Kingdom\", \"Espa\\u00f1a\", \"\\u0423\\u043a\\u0440\\u0430\\u0457\\u043d\\u0430\", \"Portugal\", \"Jamaika\", \"Argentina\", \"Switzerland\", \"France\", \"Deutschland\", \"Belgi\\u00eb - Belgique - Belgien\", \"\\u65e5\\u672c (Japan)\", \"Nederland\", \"Colombia\", \"\\ub300\\ud55c\\ubbfc\\uad6d\", \"United States of America\", \"Bolivia\", \"Australia\", \"C\\u00f4te d'Ivoire\", \"S\\u00e3o Tom\\u00e9 e Pr\\u00edncipe\", \"Nigeria\", \"Sverige\", \"R\\u00e9publique D\\u00e9mocratique du Congo\", \"\\u0421\\u0440\\u0431\\u0438\\u0458\\u0430 (Serbia)\", \"\\u00cdsland\", \"S\\u00e9n\\u00e9gal\", \"Danmark\", \"Ireland\", \"Italia\", \"Ecuador\", \"Polska\", \"South Africa\", \"Norge\", \"Egypt / \\u0645\\u0635\\u0631\", \"Zimbabwe\", \"Tanzania\", \"\\u00d6sterreich\", \"Maroc\", \"Venezuela\", \"Sierra Leone\", \"Guin\\u00e9-Bissau\", \"Bosna i Hercegovina\", \"Guin\\u00e9e\", \"Kosova\", \"Canada\", \"\\u0395\\u03bb\\u03bb\\u03ac\\u03b4\\u03b1\", \"Uruguay\", \"T\\u00fcrkiye\", \"Hrvatska\", \"Ghana\", \"Paraguay\", \"\\u010cesk\\u00e1 republika\", \"\\u0420\\u043e\\u0441\\u0441\\u0438\\u044f\", \"Slovensko\", \"Mali\", \"Guatemala\", \"\\u0627\\u06cc\\u0631\\u0627\\u0646\", \"New Zealand\", \"\\u041c\\u043e\\u043d\\u0433\\u043e\\u043b \\u0423\\u043b\\u0441\", \"Suomi\", \"M\\u00e9xico\", \"Shqip\\u00ebria\", \"Cuba\", \"\\u041c\\u0430\\u043a\\u0435\\u0434\\u043e\\u043d\\u0438\\u0458\\u0430\", \"Eesti\", \"Moldova\", \"Slovenija\", \"Rom\\u00e2nia\", \"The Gambia\", \"Rep\\u00fablica de El Salvador\", \"Cameroon;Cameroun\", \"Armenia\", \"Angola\", \"Rep\\u00fablica Dominicana\", \"Indonesia\", \"Peru\", \"\\u0627\\u0644\\u062c\\u0632\\u0627\\u0626\\u0631\", \"Cabo Verde\", \"Crna Gora\", \"Comores;\\ufe8d\\ufedf\\ufed8\\ufee4\\ufeae\\u064a;Komori\", \"Tchad / \\u062a\\u0634\\u0627\\u062f\", \"Togo\", \"Centrafrique\", \"Burkina Faso\", \"Mozambique\", \"Gabon\", \"Kyrgyzstan\", \"\\u0411\\u0435\\u043b\\u0430\\u0440\\u0443\\u0441\\u044c\", \"Zambia\", \"Kazakhstan\", \"Georgia / \\u10e1\\u10d0\\u10e5\\u10d0\\u10e0\\u10d7\\u10d5\\u10d4\\u10da\\u10dd\", \"Latvija\", \"Tajikistan\", \"\\u0411\\u044a\\u043b\\u0433\\u0430\\u0440\\u0438\\u044f\", \"\\u05d9\\u05e9\\u05e8\\u05d0\\u05dc\", \"Madagascar\", \"Uzbekistan\", \"Luxembourg\", \"Iraq\", \"\\u039a\\u03cd\\u03c0\\u03c1\\u03bf\\u03c2\", \"Kenya\", \"Magyarorsz\\u00e1g\", \"R\\u00e9publique du Congo\", \"Trinidad and Tobago\", \"Panama\", \"Honduras\", \"Burundi\", \"\\u062a\\u0648\\u0646\\u0633\", \"Costa Rica\", \"Rwanda\", \"Lietuva\", \"Somalia / \\u0627\\u0644\\u0635\\u0648\\u0645\\u0627\\u0644\", \"\\ubd81\\uc870\\uc120\", \"B\\u00e9nin\", \"Uganda\", \"Malaysia\", \"Saudi Arabia / \\u0627\\u0644\\u0633\\u0639\\u0648\\u062f\\u064a\\u0629\", \"Niger\", \"Haiti\", \"India\", \"T\\u00fcrkmenistan\", \"F\\u00f8royar/F\\u00e6r\\u00f8erne\", \"Ethiopia\", \"Andorra\", \"China \\u4e2d\\u56fd\", \"S\\u016briyya \\u0633\\u0648\\u0631\\u064a\\u0627\", \"Monaco\", \"Vi\\u1ec7t Nam\", \"\\u0644\\u0628\\u0646\\u0627\\u0646  Lebanon\", \"Liberia\", \"Libya / \\u0644\\u064a\\u0628\\u064a\\u0627\", \"Belize\", \"\\u0645\\u0648\\u0631\\u064a\\u062a\\u0627\\u0646\\u064a\\u0627\", \"United Arab Emirates\", \"Liechtenstein\", \"Azerbaijan\", \"\\u0627\\u0644\\u0628\\u062d\\u0631\\u064a\\u0646\", \"Jordan / \\u0627\\u0644\\u0623\\u064f\\u0631\\u0652\\u062f\\u064f\\u0646\", \"Suriname\", \"Gibraltar\", \"Papua New Guinea\", \"Afghanistan\", \"Palestinian Territory\", \"\\u0627\\u0644\\u0633\\u0648\\u062f\\u0627\\u0646 \\u200eal-S\\u016bd\\u0101n\", \"Botswana\", \"Namibia\", \"Malta\", \"Philippines\", \"Nicaragua\", \"Eritrea\", \"Montserrat\", \"San Marino\", \"Bahamas\", \"Rep\\u00fablica de Guinea Ecuatorial;R\\u00e9publique de Guin\\u00e9e \\u00e9quatoriale;Rep\\u00fablica da Guin\\u00e9 Equatorial\"], \"text\": [\"Brasil\", \"Chile\", \"United Kingdom\", \"Espa\\u00f1a\", \"\\u0423\\u043a\\u0440\\u0430\\u0457\\u043d\\u0430\", \"Portugal\", \"Jamaika\", \"Argentina\", \"Switzerland\", \"France\", \"Deutschland\", \"Belgi\\u00eb - Belgique - Belgien\", \"\\u65e5\\u672c (Japan)\", \"Nederland\", \"Colombia\", \"\\ub300\\ud55c\\ubbfc\\uad6d\", \"United States of America\", \"Bolivia\", \"Australia\", \"C\\u00f4te d'Ivoire\", \"S\\u00e3o Tom\\u00e9 e Pr\\u00edncipe\", \"Nigeria\", \"Sverige\", \"R\\u00e9publique D\\u00e9mocratique du Congo\", \"\\u0421\\u0440\\u0431\\u0438\\u0458\\u0430 (Serbia)\", \"\\u00cdsland\", \"S\\u00e9n\\u00e9gal\", \"Danmark\", \"Ireland\", \"Italia\", \"Ecuador\", \"Polska\", \"South Africa\", \"Norge\", \"Egypt / \\u0645\\u0635\\u0631\", \"Zimbabwe\", \"Tanzania\", \"\\u00d6sterreich\", \"Maroc\", \"Venezuela\", \"Sierra Leone\", \"Guin\\u00e9-Bissau\", \"Bosna i Hercegovina\", \"Guin\\u00e9e\", \"Kosova\", \"Canada\", \"\\u0395\\u03bb\\u03bb\\u03ac\\u03b4\\u03b1\", \"Uruguay\", \"T\\u00fcrkiye\", \"Hrvatska\", \"Ghana\", \"Paraguay\", \"\\u010cesk\\u00e1 republika\", \"\\u0420\\u043e\\u0441\\u0441\\u0438\\u044f\", \"Slovensko\", \"Mali\", \"Guatemala\", \"\\u0627\\u06cc\\u0631\\u0627\\u0646\", \"New Zealand\", \"\\u041c\\u043e\\u043d\\u0433\\u043e\\u043b \\u0423\\u043b\\u0441\", \"Suomi\", \"M\\u00e9xico\", \"Shqip\\u00ebria\", \"Cuba\", \"\\u041c\\u0430\\u043a\\u0435\\u0434\\u043e\\u043d\\u0438\\u0458\\u0430\", \"Eesti\", \"Moldova\", \"Slovenija\", \"Rom\\u00e2nia\", \"The Gambia\", \"Rep\\u00fablica de El Salvador\", \"Cameroon;Cameroun\", \"Armenia\", \"Angola\", \"Rep\\u00fablica Dominicana\", \"Indonesia\", \"Peru\", \"\\u0627\\u0644\\u062c\\u0632\\u0627\\u0626\\u0631\", \"Cabo Verde\", \"Crna Gora\", \"Comores;\\ufe8d\\ufedf\\ufed8\\ufee4\\ufeae\\u064a;Komori\", \"Tchad / \\u062a\\u0634\\u0627\\u062f\", \"Togo\", \"Centrafrique\", \"Burkina Faso\", \"Mozambique\", \"Gabon\", \"Kyrgyzstan\", \"\\u0411\\u0435\\u043b\\u0430\\u0440\\u0443\\u0441\\u044c\", \"Zambia\", \"Kazakhstan\", \"Georgia / \\u10e1\\u10d0\\u10e5\\u10d0\\u10e0\\u10d7\\u10d5\\u10d4\\u10da\\u10dd\", \"Latvija\", \"Tajikistan\", \"\\u0411\\u044a\\u043b\\u0433\\u0430\\u0440\\u0438\\u044f\", \"\\u05d9\\u05e9\\u05e8\\u05d0\\u05dc\", \"Madagascar\", \"Uzbekistan\", \"Luxembourg\", \"Iraq\", \"\\u039a\\u03cd\\u03c0\\u03c1\\u03bf\\u03c2\", \"Kenya\", \"Magyarorsz\\u00e1g\", \"R\\u00e9publique du Congo\", \"Trinidad and Tobago\", \"Panama\", \"Honduras\", \"Burundi\", \"\\u062a\\u0648\\u0646\\u0633\", \"Costa Rica\", \"Rwanda\", \"Lietuva\", \"Somalia / \\u0627\\u0644\\u0635\\u0648\\u0645\\u0627\\u0644\", \"\\ubd81\\uc870\\uc120\", \"B\\u00e9nin\", \"Uganda\", \"Malaysia\", \"Saudi Arabia / \\u0627\\u0644\\u0633\\u0639\\u0648\\u062f\\u064a\\u0629\", \"Niger\", \"Haiti\", \"India\", \"T\\u00fcrkmenistan\", \"F\\u00f8royar/F\\u00e6r\\u00f8erne\", \"Ethiopia\", \"Andorra\", \"China \\u4e2d\\u56fd\", \"S\\u016briyya \\u0633\\u0648\\u0631\\u064a\\u0627\", \"Monaco\", \"Vi\\u1ec7t Nam\", \"\\u0644\\u0628\\u0646\\u0627\\u0646  Lebanon\", \"Liberia\", \"Libya / \\u0644\\u064a\\u0628\\u064a\\u0627\", \"Belize\", \"\\u0645\\u0648\\u0631\\u064a\\u062a\\u0627\\u0646\\u064a\\u0627\", \"United Arab Emirates\", \"Liechtenstein\", \"Azerbaijan\", \"\\u0627\\u0644\\u0628\\u062d\\u0631\\u064a\\u0646\", \"Jordan / \\u0627\\u0644\\u0623\\u064f\\u0631\\u0652\\u062f\\u064f\\u0646\", \"Suriname\", \"Gibraltar\", \"Papua New Guinea\", \"Afghanistan\", \"Palestinian Territory\", \"\\u0627\\u0644\\u0633\\u0648\\u062f\\u0627\\u0646 \\u200eal-S\\u016bd\\u0101n\", \"Botswana\", \"Namibia\", \"Malta\", \"Philippines\", \"Nicaragua\", \"Eritrea\", \"Montserrat\", \"San Marino\", \"Bahamas\", \"Rep\\u00fablica de Guinea Ecuatorial;R\\u00e9publique de Guin\\u00e9e \\u00e9quatoriale;Rep\\u00fablica da Guin\\u00e9 Equatorial\"], \"type\": \"choropleth\", \"z\": [56.0, 1.2, 36.0, 6.3, 24.0, 36.0, 128.0, 52.0, 1.8, 60.0, 40.0, 120.0, 0.45, 0.8, 48.0, 64.0, 2.8, 13.5, 2.0, 16.0, 13.5, 5.2, 28.0, 8.0, 16.0, 22.5, 3.2, 3.2, 9.5, 25.0, 1.8, 0.4, 1.6, 16.0, 8.0, 8.0, 9.5, 0.4, 5.5, 1.0, 4.8, 3.2, 16.0, 33.5, 16.0, 16.0, 14.5, 36.0, 32.0, 7.0, 5.5, 9.5, 12.0, 9.5, 5.5, 11.0, 11.0, 6.5, 14.5, 3.2, 8.0, 72.0, 13.0, 48.0, 15.5, 1.2, 3.5, 1.2, 4.8, 11.0, 4.8, 3.2, 20.0, 3.2, 5.5, 12.0, 3.2, 6.5, 20.0, 6.5, 0.15, 2.4, 1.8, 0.8, 9.5, 2.4, 2.2, 6.0, 0.675, 9.5, 1.4, 2.3, 0.8, 0.2, 0.95, 0.4, 2.2, 5.2, 1.6, 0.3, 4.8, 0.4, 1.4, 0.525, 0.675, 2.8, 0.95, 3.0, 1.6, 0.3, 0.475, 0.175, 0.1, 0.475, 0.55, 0.05, 0.8, 0.475, 0.05, 0.1, 0.325, 0.15, 0.3, 0.2, 0.2, 8.0, 1.4, 2.4, 0.15, 0.05, 1.0, 0.65, 4.8, 0.675, 0.075, 0.325, 0.675, 0.4, 0.325, 0.15, 0.275, 0.25, 0.2, 0.325, 0.2, 0.325, 0.15, 0.225, 0.275, 0.25, 0.05, 0.05, 0.025, 0.1, 1.5]}],\n",
       "                        {\"geo\": {\"projection\": {\"type\": \"mercator\"}, \"showframe\": false}, \"template\": {\"data\": {\"bar\": [{\"error_x\": {\"color\": \"#2a3f5f\"}, \"error_y\": {\"color\": \"#2a3f5f\"}, \"marker\": {\"line\": {\"color\": \"#E5ECF6\", \"width\": 0.5}}, \"type\": \"bar\"}], \"barpolar\": [{\"marker\": {\"line\": {\"color\": \"#E5ECF6\", \"width\": 0.5}}, \"type\": \"barpolar\"}], \"carpet\": [{\"aaxis\": {\"endlinecolor\": \"#2a3f5f\", \"gridcolor\": \"white\", \"linecolor\": \"white\", \"minorgridcolor\": \"white\", \"startlinecolor\": \"#2a3f5f\"}, \"baxis\": {\"endlinecolor\": \"#2a3f5f\", \"gridcolor\": \"white\", \"linecolor\": \"white\", \"minorgridcolor\": \"white\", \"startlinecolor\": \"#2a3f5f\"}, \"type\": \"carpet\"}], \"choropleth\": [{\"colorbar\": {\"outlinewidth\": 0, \"ticks\": \"\"}, \"type\": \"choropleth\"}], \"contour\": [{\"colorbar\": {\"outlinewidth\": 0, \"ticks\": \"\"}, \"colorscale\": [[0.0, \"#0d0887\"], [0.1111111111111111, \"#46039f\"], [0.2222222222222222, \"#7201a8\"], [0.3333333333333333, \"#9c179e\"], [0.4444444444444444, \"#bd3786\"], [0.5555555555555556, \"#d8576b\"], [0.6666666666666666, \"#ed7953\"], [0.7777777777777778, \"#fb9f3a\"], [0.8888888888888888, \"#fdca26\"], [1.0, \"#f0f921\"]], \"type\": \"contour\"}], \"contourcarpet\": [{\"colorbar\": {\"outlinewidth\": 0, \"ticks\": \"\"}, \"type\": \"contourcarpet\"}], \"heatmap\": [{\"colorbar\": {\"outlinewidth\": 0, \"ticks\": \"\"}, \"colorscale\": [[0.0, \"#0d0887\"], [0.1111111111111111, \"#46039f\"], [0.2222222222222222, \"#7201a8\"], [0.3333333333333333, \"#9c179e\"], [0.4444444444444444, \"#bd3786\"], [0.5555555555555556, \"#d8576b\"], [0.6666666666666666, \"#ed7953\"], [0.7777777777777778, \"#fb9f3a\"], [0.8888888888888888, \"#fdca26\"], [1.0, \"#f0f921\"]], \"type\": \"heatmap\"}], \"heatmapgl\": [{\"colorbar\": {\"outlinewidth\": 0, \"ticks\": \"\"}, \"colorscale\": [[0.0, \"#0d0887\"], [0.1111111111111111, \"#46039f\"], [0.2222222222222222, \"#7201a8\"], [0.3333333333333333, \"#9c179e\"], [0.4444444444444444, \"#bd3786\"], [0.5555555555555556, \"#d8576b\"], [0.6666666666666666, \"#ed7953\"], [0.7777777777777778, \"#fb9f3a\"], [0.8888888888888888, \"#fdca26\"], [1.0, \"#f0f921\"]], \"type\": \"heatmapgl\"}], \"histogram\": [{\"marker\": {\"colorbar\": {\"outlinewidth\": 0, \"ticks\": \"\"}}, \"type\": \"histogram\"}], \"histogram2d\": [{\"colorbar\": {\"outlinewidth\": 0, \"ticks\": \"\"}, \"colorscale\": [[0.0, \"#0d0887\"], [0.1111111111111111, \"#46039f\"], [0.2222222222222222, \"#7201a8\"], [0.3333333333333333, \"#9c179e\"], [0.4444444444444444, \"#bd3786\"], [0.5555555555555556, \"#d8576b\"], [0.6666666666666666, \"#ed7953\"], [0.7777777777777778, \"#fb9f3a\"], [0.8888888888888888, \"#fdca26\"], [1.0, \"#f0f921\"]], \"type\": \"histogram2d\"}], \"histogram2dcontour\": [{\"colorbar\": {\"outlinewidth\": 0, \"ticks\": \"\"}, \"colorscale\": [[0.0, \"#0d0887\"], [0.1111111111111111, \"#46039f\"], [0.2222222222222222, \"#7201a8\"], [0.3333333333333333, \"#9c179e\"], [0.4444444444444444, \"#bd3786\"], [0.5555555555555556, \"#d8576b\"], [0.6666666666666666, \"#ed7953\"], [0.7777777777777778, \"#fb9f3a\"], [0.8888888888888888, \"#fdca26\"], [1.0, \"#f0f921\"]], \"type\": \"histogram2dcontour\"}], \"mesh3d\": [{\"colorbar\": {\"outlinewidth\": 0, \"ticks\": \"\"}, \"type\": \"mesh3d\"}], \"parcoords\": [{\"line\": {\"colorbar\": {\"outlinewidth\": 0, \"ticks\": \"\"}}, \"type\": \"parcoords\"}], \"scatter\": [{\"marker\": {\"colorbar\": {\"outlinewidth\": 0, \"ticks\": \"\"}}, \"type\": \"scatter\"}], \"scatter3d\": [{\"line\": {\"colorbar\": {\"outlinewidth\": 0, \"ticks\": \"\"}}, \"marker\": {\"colorbar\": {\"outlinewidth\": 0, \"ticks\": \"\"}}, \"type\": \"scatter3d\"}], \"scattercarpet\": [{\"marker\": {\"colorbar\": {\"outlinewidth\": 0, \"ticks\": \"\"}}, \"type\": \"scattercarpet\"}], \"scattergeo\": [{\"marker\": {\"colorbar\": {\"outlinewidth\": 0, \"ticks\": \"\"}}, \"type\": \"scattergeo\"}], \"scattergl\": [{\"marker\": {\"colorbar\": {\"outlinewidth\": 0, \"ticks\": \"\"}}, \"type\": \"scattergl\"}], \"scattermapbox\": [{\"marker\": {\"colorbar\": {\"outlinewidth\": 0, \"ticks\": \"\"}}, \"type\": \"scattermapbox\"}], \"scatterpolar\": [{\"marker\": {\"colorbar\": {\"outlinewidth\": 0, \"ticks\": \"\"}}, \"type\": \"scatterpolar\"}], \"scatterpolargl\": [{\"marker\": {\"colorbar\": {\"outlinewidth\": 0, \"ticks\": \"\"}}, \"type\": \"scatterpolargl\"}], \"scatterternary\": [{\"marker\": {\"colorbar\": {\"outlinewidth\": 0, \"ticks\": \"\"}}, \"type\": \"scatterternary\"}], \"surface\": [{\"colorbar\": {\"outlinewidth\": 0, \"ticks\": \"\"}, \"colorscale\": [[0.0, \"#0d0887\"], [0.1111111111111111, \"#46039f\"], [0.2222222222222222, \"#7201a8\"], [0.3333333333333333, \"#9c179e\"], [0.4444444444444444, \"#bd3786\"], [0.5555555555555556, \"#d8576b\"], [0.6666666666666666, \"#ed7953\"], [0.7777777777777778, \"#fb9f3a\"], [0.8888888888888888, \"#fdca26\"], [1.0, \"#f0f921\"]], \"type\": \"surface\"}], \"table\": [{\"cells\": {\"fill\": {\"color\": \"#EBF0F8\"}, \"line\": {\"color\": \"white\"}}, \"header\": {\"fill\": {\"color\": \"#C8D4E3\"}, \"line\": {\"color\": \"white\"}}, \"type\": \"table\"}]}, \"layout\": {\"annotationdefaults\": {\"arrowcolor\": \"#2a3f5f\", \"arrowhead\": 0, \"arrowwidth\": 1}, \"colorscale\": {\"diverging\": [[0, \"#8e0152\"], [0.1, \"#c51b7d\"], [0.2, \"#de77ae\"], [0.3, \"#f1b6da\"], [0.4, \"#fde0ef\"], [0.5, \"#f7f7f7\"], [0.6, \"#e6f5d0\"], [0.7, \"#b8e186\"], [0.8, \"#7fbc41\"], [0.9, \"#4d9221\"], [1, \"#276419\"]], \"sequential\": [[0.0, \"#0d0887\"], [0.1111111111111111, \"#46039f\"], [0.2222222222222222, \"#7201a8\"], [0.3333333333333333, \"#9c179e\"], [0.4444444444444444, \"#bd3786\"], [0.5555555555555556, \"#d8576b\"], [0.6666666666666666, \"#ed7953\"], [0.7777777777777778, \"#fb9f3a\"], [0.8888888888888888, \"#fdca26\"], [1.0, \"#f0f921\"]], \"sequentialminus\": [[0.0, \"#0d0887\"], [0.1111111111111111, \"#46039f\"], [0.2222222222222222, \"#7201a8\"], [0.3333333333333333, \"#9c179e\"], [0.4444444444444444, \"#bd3786\"], [0.5555555555555556, \"#d8576b\"], [0.6666666666666666, \"#ed7953\"], [0.7777777777777778, \"#fb9f3a\"], [0.8888888888888888, \"#fdca26\"], [1.0, \"#f0f921\"]]}, \"colorway\": [\"#636efa\", \"#EF553B\", \"#00cc96\", \"#ab63fa\", \"#FFA15A\", \"#19d3f3\", \"#FF6692\", \"#B6E880\", \"#FF97FF\", \"#FECB52\"], \"font\": {\"color\": \"#2a3f5f\"}, \"geo\": {\"bgcolor\": \"white\", \"lakecolor\": \"white\", \"landcolor\": \"#E5ECF6\", \"showlakes\": true, \"showland\": true, \"subunitcolor\": \"white\"}, \"hoverlabel\": {\"align\": \"left\"}, \"hovermode\": \"closest\", \"mapbox\": {\"style\": \"light\"}, \"paper_bgcolor\": \"white\", \"plot_bgcolor\": \"#E5ECF6\", \"polar\": {\"angularaxis\": {\"gridcolor\": \"white\", \"linecolor\": \"white\", \"ticks\": \"\"}, \"bgcolor\": \"#E5ECF6\", \"radialaxis\": {\"gridcolor\": \"white\", \"linecolor\": \"white\", \"ticks\": \"\"}}, \"scene\": {\"xaxis\": {\"backgroundcolor\": \"#E5ECF6\", \"gridcolor\": \"white\", \"gridwidth\": 2, \"linecolor\": \"white\", \"showbackground\": true, \"ticks\": \"\", \"zerolinecolor\": \"white\"}, \"yaxis\": {\"backgroundcolor\": \"#E5ECF6\", \"gridcolor\": \"white\", \"gridwidth\": 2, \"linecolor\": \"white\", \"showbackground\": true, \"ticks\": \"\", \"zerolinecolor\": \"white\"}, \"zaxis\": {\"backgroundcolor\": \"#E5ECF6\", \"gridcolor\": \"white\", \"gridwidth\": 2, \"linecolor\": \"white\", \"showbackground\": true, \"ticks\": \"\", \"zerolinecolor\": \"white\"}}, \"shapedefaults\": {\"line\": {\"color\": \"#2a3f5f\"}}, \"ternary\": {\"aaxis\": {\"gridcolor\": \"white\", \"linecolor\": \"white\", \"ticks\": \"\"}, \"baxis\": {\"gridcolor\": \"white\", \"linecolor\": \"white\", \"ticks\": \"\"}, \"bgcolor\": \"#E5ECF6\", \"caxis\": {\"gridcolor\": \"white\", \"linecolor\": \"white\", \"ticks\": \"\"}}, \"title\": {\"x\": 0.05}, \"xaxis\": {\"automargin\": true, \"gridcolor\": \"white\", \"linecolor\": \"white\", \"ticks\": \"\", \"zerolinecolor\": \"white\", \"zerolinewidth\": 2}, \"yaxis\": {\"automargin\": true, \"gridcolor\": \"white\", \"linecolor\": \"white\", \"ticks\": \"\", \"zerolinecolor\": \"white\", \"zerolinewidth\": 2}}}, \"title\": {\"text\": \"Heatmap Marktwerte je Nationalit\\u00e4t\"}},\n",
       "                        {\"responsive\": true}\n",
       "                    ).then(function(){\n",
       "                            \n",
       "var gd = document.getElementById('f0a263db-bff6-425e-b52d-824322de4204');\n",
       "var x = new MutationObserver(function (mutations, observer) {{\n",
       "        var display = window.getComputedStyle(gd).display;\n",
       "        if (!display || display === 'none') {{\n",
       "            console.log([gd, 'removed!']);\n",
       "            Plotly.purge(gd);\n",
       "            observer.disconnect();\n",
       "        }}\n",
       "}});\n",
       "\n",
       "// Listen for the removal of the full notebook cells\n",
       "var notebookContainer = gd.closest('#notebook-container');\n",
       "if (notebookContainer) {{\n",
       "    x.observe(notebookContainer, {childList: true});\n",
       "}}\n",
       "\n",
       "// Listen for the clearing of the current output cell\n",
       "var outputEl = gd.closest('.output');\n",
       "if (outputEl) {{\n",
       "    x.observe(outputEl, {childList: true});\n",
       "}}\n",
       "\n",
       "                        })\n",
       "                };\n",
       "                });\n",
       "            </script>\n",
       "        </div>"
      ]
     },
     "metadata": {},
     "output_type": "display_data"
    }
   ],
   "source": [
    "import chart_studio.plotly as py # Dient zur Dartstellung der untengezeigten Karte.\n",
    "import plotly.graph_objs as go # Dient zur Dartstellung der untengezeigten Karte.\n",
    "from plotly.offline import download_plotlyjs, init_notebook_mode, plot, iplot # Dient zur Dartstellung der untengezeigten offline Karte.\n",
    "init_notebook_mode(connected=True)\n",
    "\n",
    "\n",
    "data = dict(type = 'choropleth', \n",
    "           locations = country_value['country'],\n",
    "           locationmode = 'country names',\n",
    "           z = country_value['Values'],\n",
    "           text = country_value['country'],\n",
    "           colorbar = {'title':'Marktwert'})\n",
    "layout = dict(title = 'Heatmap Marktwerte je Nationalität', \n",
    "             geo = dict(showframe = False, \n",
    "                       projection = {'type': 'mercator'}))\n",
    "choromap3 = go.Figure(data = [data], layout=layout)\n",
    "iplot(choromap3)"
   ]
  },
  {
   "cell_type": "markdown",
   "metadata": {},
   "source": [
    "Auf der darüber liegenden Karte sieht man die Gesamtsumme der Marktwerte pro Land. Hieraus lässt sich erkennen, aus welchen Staaten die Fußballer mit den höchsten Marktwerte stammen.\n",
    "\n",
    "Mithilfe der Marktwert Karte soll eine Übersicht darüber gegeben werden, in welchem Verhältnis der Marktwert mit dem Herkunftsland der Spieler steht. So kann man anhand der Färbung des jeweiligen Landes erkennen, wie hoch die Summe der Marktwerte ist, aus die ein Spieler stammt. Die Karte deckt dabei alle 195 Staaten der Erde ab und ist dabei interaktiv steuerbar. So kann man sich innerhalb der Karte bewegen."
   ]
  },
  {
   "cell_type": "code",
   "execution_count": 39,
   "metadata": {
    "scrolled": true
   },
   "outputs": [],
   "source": [
    "from sklearn.cluster import KMeans\n",
    "df_kmean = df[['Values', 'Age']]\n",
    "km = KMeans(n_clusters=10)\n",
    "km.fit(df_kmean)\n",
    "y_km = km.predict(df_kmean)"
   ]
  },
  {
   "cell_type": "code",
   "execution_count": 40,
   "metadata": {},
   "outputs": [
    {
     "data": {
      "image/png": "[encoded data removed]",
      "text/plain": [
       "<Figure size 1080x720 with 1 Axes>"
      ]
     },
     "metadata": {
      "needs_background": "light"
     },
     "output_type": "display_data"
    }
   ],
   "source": [
    "f, ax = plt.subplots(1, 1, figsize = (15, 10))\n",
    "plt.scatter(df_kmean[\"Values\"], df_kmean['Age'], c=y_km, s=50, cmap='viridis')\n",
    "centers = km.cluster_centers_\n",
    "plt.scatter(centers[:, 1], centers[:, 0], c='blue', marker='.',s=200, alpha=1)\n",
    "plt.title(\"Konfrontation Alter und Marktwert\")\n",
    "plt.suptitle(\"Größe der Spieler\")\n",
    "_=plt.xlabel('')"
   ]
  },
  {
   "cell_type": "markdown",
   "metadata": {},
   "source": [
    "Der KMeans Algorithmus ist eine Clusteranalyse, mit der sich Gruppierungen bilden lassen.\n",
    "\n",
    "Durch den KMean Algorithmus lassen sich Gruppierungen aus Datensätze bilden. Dabei ist der KMean Algorithmus dafür gemacht, großer Datenmenge sehr effizient zu bearbeiten und somit Perfekt für die hier angewandten Daten geeignet.\n",
    "Ziel einer Clusteranalyse ist es, Gruppen aus den Datensätzen zu bilden und so ähnliche Werte zusammenzufassen. Die Reihenfolge, wie der KMean Algorithmus erfolgt, ist dabei immer gleich und erfolgt in 4 Schritten:\n",
    "\n",
    "1.\tZunächst werden die sogenannten K-Punkte gewählt diese dienen als Anfangszentren der Berechnung\n",
    "2.\tIm 2 Schritt. Werden die Datenpunkte dann den verschiedenen Clustern zugeordnet. Dies erfolgt dabei auf den Abstand zu den verschiedenen Zentren.\n",
    "3.\tNun folgt eine Neu Berechnung der Clusterzentren, um diese noch genauer zuzuordnen.\n",
    "4.\tNun werden die Schritte ab Schritt 2 solange wiederholt, bis keine Änderung der Zentren mehr erfolgt.\n",
    "\n",
    "In der obigen Abbildung wurde der KMean auf den Datensatz angewandt und in einem Diagramm dargestellt. Auf der y-Achse befindet sich hierbei das Alter und auf der x-Achse der Marktwert der Spieler.\n"
   ]
  },
  {
   "cell_type": "code",
   "execution_count": 41,
   "metadata": {},
   "outputs": [
    {
     "name": "stderr",
     "output_type": "stream",
     "text": [
      "/Users/justinmester/opt/anaconda3/lib/python3.7/site-packages/pandas/core/reshape/merge.py:618: UserWarning:\n",
      "\n",
      "merging between different levels can give an unintended result (1 levels on the left, 2 on the right)\n",
      "\n"
     ]
    },
    {
     "data": {
      "text/html": [
       "<div>\n",
       "<style scoped>\n",
       "    .dataframe tbody tr th:only-of-type {\n",
       "        vertical-align: middle;\n",
       "    }\n",
       "\n",
       "    .dataframe tbody tr th {\n",
       "        vertical-align: top;\n",
       "    }\n",
       "\n",
       "    .dataframe thead th {\n",
       "        text-align: right;\n",
       "    }\n",
       "</style>\n",
       "<table border=\"1\" class=\"dataframe\">\n",
       "  <thead>\n",
       "    <tr style=\"text-align: right;\">\n",
       "      <th></th>\n",
       "      <th>Position</th>\n",
       "      <th>Sum_Value</th>\n",
       "      <th>Count</th>\n",
       "      <th>Mean</th>\n",
       "    </tr>\n",
       "  </thead>\n",
       "  <tbody>\n",
       "    <tr>\n",
       "      <th>0</th>\n",
       "      <td>Torwart</td>\n",
       "      <td>3940.100</td>\n",
       "      <td>2142</td>\n",
       "      <td>1.839449</td>\n",
       "    </tr>\n",
       "    <tr>\n",
       "      <th>2</th>\n",
       "      <td>Innenverteidiger</td>\n",
       "      <td>10497.250</td>\n",
       "      <td>3325</td>\n",
       "      <td>3.157068</td>\n",
       "    </tr>\n",
       "    <tr>\n",
       "      <th>5</th>\n",
       "      <td>Linker Verteidiger</td>\n",
       "      <td>3851.125</td>\n",
       "      <td>1425</td>\n",
       "      <td>2.702544</td>\n",
       "    </tr>\n",
       "    <tr>\n",
       "      <th>6</th>\n",
       "      <td>Rechter Verteidiger</td>\n",
       "      <td>4040.225</td>\n",
       "      <td>1549</td>\n",
       "      <td>2.608280</td>\n",
       "    </tr>\n",
       "    <tr>\n",
       "      <th>7</th>\n",
       "      <td>Defensives Mittelfeld</td>\n",
       "      <td>4480.790</td>\n",
       "      <td>1586</td>\n",
       "      <td>2.825214</td>\n",
       "    </tr>\n",
       "  </tbody>\n",
       "</table>\n",
       "</div>"
      ],
      "text/plain": [
       "                                            Position  Sum_Value  Count  \\\n",
       "0                Torwart                               3940.100   2142   \n",
       "2       Innenverteidiger                              10497.250   3325   \n",
       "5     Linker Verteidiger                               3851.125   1425   \n",
       "6    Rechter Verteidiger                               4040.225   1549   \n",
       "7  Defensives Mittelfeld                               4480.790   1586   \n",
       "\n",
       "       Mean  \n",
       "0  1.839449  \n",
       "2  3.157068  \n",
       "5  2.702544  \n",
       "6  2.608280  \n",
       "7  2.825214  "
      ]
     },
     "execution_count": 41,
     "metadata": {},
     "output_type": "execute_result"
    }
   ],
   "source": [
    "group_value = df[['Position', 'Values']]\n",
    "group_position = df[['Position', 'Values']].groupby(\"Position\")\n",
    "sum_group_position = group_position.agg(['sum', 'count', 'mean']).rename(columns={'Values':'Sum'})\n",
    "group_value = group_value.merge(sum_group_position, left_on='Position', right_index=True)\n",
    "group_value = group_value.drop_duplicates(subset=\"Position\", keep=\"first\")\n",
    "del group_value['Values']\n",
    "group_value.columns = ['Position', 'Sum_Value' , 'Count', 'Mean']\n",
    "group_value.head(5)"
   ]
  },
  {
   "cell_type": "code",
   "execution_count": 42,
   "metadata": {},
   "outputs": [
    {
     "data": {
      "text/html": [
       "<div>\n",
       "<style scoped>\n",
       "    .dataframe tbody tr th:only-of-type {\n",
       "        vertical-align: middle;\n",
       "    }\n",
       "\n",
       "    .dataframe tbody tr th {\n",
       "        vertical-align: top;\n",
       "    }\n",
       "\n",
       "    .dataframe thead th {\n",
       "        text-align: right;\n",
       "    }\n",
       "</style>\n",
       "<table border=\"1\" class=\"dataframe\">\n",
       "  <thead>\n",
       "    <tr style=\"text-align: right;\">\n",
       "      <th></th>\n",
       "      <th>Position</th>\n",
       "      <th>Sum_Value</th>\n",
       "      <th>Count</th>\n",
       "      <th>Mean</th>\n",
       "    </tr>\n",
       "  </thead>\n",
       "  <tbody>\n",
       "    <tr>\n",
       "      <th>7</th>\n",
       "      <td>Defensives Mittelfeld</td>\n",
       "      <td>4480.790</td>\n",
       "      <td>1586</td>\n",
       "      <td>2.825214</td>\n",
       "    </tr>\n",
       "    <tr>\n",
       "      <th>8</th>\n",
       "      <td>Zentrales Mittelfeld</td>\n",
       "      <td>9702.550</td>\n",
       "      <td>2286</td>\n",
       "      <td>4.244335</td>\n",
       "    </tr>\n",
       "    <tr>\n",
       "      <th>9</th>\n",
       "      <td>Offensives Mittelfeld</td>\n",
       "      <td>4388.175</td>\n",
       "      <td>1337</td>\n",
       "      <td>3.282105</td>\n",
       "    </tr>\n",
       "    <tr>\n",
       "      <th>37</th>\n",
       "      <td>Linkes Mittelfeld</td>\n",
       "      <td>721.025</td>\n",
       "      <td>318</td>\n",
       "      <td>2.267374</td>\n",
       "    </tr>\n",
       "    <tr>\n",
       "      <th>365</th>\n",
       "      <td>Rechtes Mittelfeld</td>\n",
       "      <td>629.550</td>\n",
       "      <td>319</td>\n",
       "      <td>1.973511</td>\n",
       "    </tr>\n",
       "    <tr>\n",
       "      <th>3924</th>\n",
       "      <td>Mittelfeld</td>\n",
       "      <td>1.050</td>\n",
       "      <td>9</td>\n",
       "      <td>0.116667</td>\n",
       "    </tr>\n",
       "  </tbody>\n",
       "</table>\n",
       "</div>"
      ],
      "text/plain": [
       "                                               Position  Sum_Value  Count  \\\n",
       "7     Defensives Mittelfeld                               4480.790   1586   \n",
       "8      Zentrales Mittelfeld                               9702.550   2286   \n",
       "9     Offensives Mittelfeld                               4388.175   1337   \n",
       "37        Linkes Mittelfeld                                721.025    318   \n",
       "365      Rechtes Mittelfeld                                629.550    319   \n",
       "3924             Mittelfeld                                  1.050      9   \n",
       "\n",
       "          Mean  \n",
       "7     2.825214  \n",
       "8     4.244335  \n",
       "9     3.282105  \n",
       "37    2.267374  \n",
       "365   1.973511  \n",
       "3924  0.116667  "
      ]
     },
     "execution_count": 42,
     "metadata": {},
     "output_type": "execute_result"
    }
   ],
   "source": [
    "mittelfeld_value = group_value[group_value['Position'].str.contains('Mittelfeld')]\n",
    "mittelfeld_value"
   ]
  },
  {
   "cell_type": "code",
   "execution_count": 43,
   "metadata": {},
   "outputs": [
    {
     "data": {
      "text/plain": [
       "Text(0.5, 1.0, 'Kreisdiagramm zur Häufigkeit der verschiedenen Mittelfeld Rollen')"
      ]
     },
     "execution_count": 43,
     "metadata": {},
     "output_type": "execute_result"
    },
    {
     "data": {
      "image/png": "[encoded data removed]",
      "text/plain": [
       "<Figure size 432x288 with 1 Axes>"
      ]
     },
     "metadata": {},
     "output_type": "display_data"
    }
   ],
   "source": [
    "mittelfeld_value['Count'].plot(kind='pie', labels=mittelfeld_value.Position, fontsize=10,autopct='%.2f')\n",
    "plt.title(\"Kreisdiagramm zur Häufigkeit der verschiedenen Mittelfeld Rollen\")"
   ]
  },
  {
   "cell_type": "markdown",
   "metadata": {},
   "source": [
    "Da im Fußball die Position der Spieler sehr unterschiedlich sind und oftmals auch unterschiedlich bewertet werden, wurde hier zunächst ein Kreisdiagramm erstellt, um alle Positionen, welche im Mittelfeld existieren, anzuzeigen und diese gleichzeitig mit der dazugehörigen Häufigkeit visualisierbar zu machen. \n",
    "Anhand des Kreisdiagramms kann man erkennen, dass das Zentralemittelfeld mit 39 % die meist gespielte Position\n",
    "im Mittelfeld ist."
   ]
  },
  {
   "cell_type": "code",
   "execution_count": 44,
   "metadata": {},
   "outputs": [
    {
     "name": "stderr",
     "output_type": "stream",
     "text": [
      "/Users/justinmester/opt/anaconda3/lib/python3.7/site-packages/pandas/core/reshape/merge.py:618: UserWarning:\n",
      "\n",
      "merging between different levels can give an unintended result (1 levels on the left, 2 on the right)\n",
      "\n"
     ]
    },
    {
     "data": {
      "text/html": [
       "<div>\n",
       "<style scoped>\n",
       "    .dataframe tbody tr th:only-of-type {\n",
       "        vertical-align: middle;\n",
       "    }\n",
       "\n",
       "    .dataframe tbody tr th {\n",
       "        vertical-align: top;\n",
       "    }\n",
       "\n",
       "    .dataframe thead th {\n",
       "        text-align: right;\n",
       "    }\n",
       "</style>\n",
       "<table border=\"1\" class=\"dataframe\">\n",
       "  <thead>\n",
       "    <tr style=\"text-align: right;\">\n",
       "      <th></th>\n",
       "      <th>Number</th>\n",
       "      <th>Values</th>\n",
       "      <th>Sum_Value</th>\n",
       "      <th>Count</th>\n",
       "      <th>Mean</th>\n",
       "    </tr>\n",
       "  </thead>\n",
       "  <tbody>\n",
       "    <tr>\n",
       "      <th>0</th>\n",
       "      <td>31</td>\n",
       "      <td>56.00</td>\n",
       "      <td>730.050</td>\n",
       "      <td>269</td>\n",
       "      <td>2.713941</td>\n",
       "    </tr>\n",
       "    <tr>\n",
       "      <th>1</th>\n",
       "      <td>1</td>\n",
       "      <td>1.20</td>\n",
       "      <td>1948.000</td>\n",
       "      <td>649</td>\n",
       "      <td>3.001541</td>\n",
       "    </tr>\n",
       "    <tr>\n",
       "      <th>2</th>\n",
       "      <td>5</td>\n",
       "      <td>36.00</td>\n",
       "      <td>2751.750</td>\n",
       "      <td>667</td>\n",
       "      <td>4.125562</td>\n",
       "    </tr>\n",
       "    <tr>\n",
       "      <th>3</th>\n",
       "      <td>50</td>\n",
       "      <td>6.30</td>\n",
       "      <td>48.600</td>\n",
       "      <td>39</td>\n",
       "      <td>1.246154</td>\n",
       "    </tr>\n",
       "    <tr>\n",
       "      <th>4</th>\n",
       "      <td>-</td>\n",
       "      <td>0.10</td>\n",
       "      <td>405.770</td>\n",
       "      <td>921</td>\n",
       "      <td>0.440575</td>\n",
       "    </tr>\n",
       "    <tr>\n",
       "      <th>...</th>\n",
       "      <td>...</td>\n",
       "      <td>...</td>\n",
       "      <td>...</td>\n",
       "      <td>...</td>\n",
       "      <td>...</td>\n",
       "    </tr>\n",
       "    <tr>\n",
       "      <th>2150</th>\n",
       "      <td>75</td>\n",
       "      <td>0.35</td>\n",
       "      <td>3.450</td>\n",
       "      <td>12</td>\n",
       "      <td>0.287500</td>\n",
       "    </tr>\n",
       "    <tr>\n",
       "      <th>2239</th>\n",
       "      <td>82</td>\n",
       "      <td>0.30</td>\n",
       "      <td>12.025</td>\n",
       "      <td>24</td>\n",
       "      <td>0.501042</td>\n",
       "    </tr>\n",
       "    <tr>\n",
       "      <th>3264</th>\n",
       "      <td>61</td>\n",
       "      <td>0.05</td>\n",
       "      <td>81.100</td>\n",
       "      <td>17</td>\n",
       "      <td>4.770588</td>\n",
       "    </tr>\n",
       "    <tr>\n",
       "      <th>5669</th>\n",
       "      <td>58</td>\n",
       "      <td>0.45</td>\n",
       "      <td>1.250</td>\n",
       "      <td>11</td>\n",
       "      <td>0.113636</td>\n",
       "    </tr>\n",
       "    <tr>\n",
       "      <th>9605</th>\n",
       "      <td>65</td>\n",
       "      <td>0.15</td>\n",
       "      <td>3.775</td>\n",
       "      <td>9</td>\n",
       "      <td>0.419444</td>\n",
       "    </tr>\n",
       "  </tbody>\n",
       "</table>\n",
       "<p>100 rows × 5 columns</p>\n",
       "</div>"
      ],
      "text/plain": [
       "     Number  Values  Sum_Value  Count      Mean\n",
       "0        31   56.00    730.050    269  2.713941\n",
       "1         1    1.20   1948.000    649  3.001541\n",
       "2         5   36.00   2751.750    667  4.125562\n",
       "3        50    6.30     48.600     39  1.246154\n",
       "4         -    0.10    405.770    921  0.440575\n",
       "...     ...     ...        ...    ...       ...\n",
       "2150     75    0.35      3.450     12  0.287500\n",
       "2239     82    0.30     12.025     24  0.501042\n",
       "3264     61    0.05     81.100     17  4.770588\n",
       "5669     58    0.45      1.250     11  0.113636\n",
       "9605     65    0.15      3.775      9  0.419444\n",
       "\n",
       "[100 rows x 5 columns]"
      ]
     },
     "execution_count": 44,
     "metadata": {},
     "output_type": "execute_result"
    }
   ],
   "source": [
    "number_agg = df[['Number', 'Values']]\n",
    "group_number = df[['Number', 'Values']].groupby(\"Number\")\n",
    "count_group_number = group_number.agg(['sum', 'count', 'mean']).rename(columns={'Values':'Sum'})\n",
    "number_agg = number_agg.merge(count_group_number, left_on='Number', right_index=True)\n",
    "number_agg.columns = ['Number','Values', 'Sum_Value' , 'Count' , 'Mean']\n",
    "number_agg = number_agg.drop_duplicates(subset=\"Number\", keep=\"first\")\n",
    "number_agg"
   ]
  },
  {
   "cell_type": "code",
   "execution_count": 46,
   "metadata": {},
   "outputs": [
    {
     "data": {
      "image/png": "[encoded data removed]",
      "text/plain": [
       "<Figure size 432x288 with 1 Axes>"
      ]
     },
     "metadata": {
      "needs_background": "light"
     },
     "output_type": "display_data"
    },
    {
     "data": {
      "image/png": "[encoded data removed]",
      "text/plain": [
       "<Figure size 432x288 with 1 Axes>"
      ]
     },
     "metadata": {
      "needs_background": "light"
     },
     "output_type": "display_data"
    },
    {
     "data": {
      "image/png": "[encoded data removed]",
      "text/plain": [
       "<Figure size 432x288 with 1 Axes>"
      ]
     },
     "metadata": {
      "needs_background": "light"
     },
     "output_type": "display_data"
    }
   ],
   "source": [
    "number_value = number_agg.sort_values(by=['Sum_Value'], ascending=False)[:20]\n",
    "number_value.plot.scatter(x='Number',y='Sum_Value',c='Blue')\n",
    "plt.title(\"Marktwertsummen je Rückennummer\")\n",
    "plt.show()\n",
    "\n",
    "number_count = number_agg.sort_values(by=['Count'], ascending=False)[:20]\n",
    "number_count.plot.scatter(x='Number',y='Count',c='Blue')\n",
    "plt.title(\"Anzahl der Rückennummern (Absolut)\")\n",
    "plt.show()\n",
    "\n",
    "x = number_count['Number'][:20]\n",
    "y = df.Number.value_counts(normalize=True,dropna=False)[:20]\n",
    "plt.title(\"Anzahl der Rückennummern (Relativ)\")\n",
    "plt.plot(x, y)\n",
    "plt.show()"
   ]
  },
  {
   "cell_type": "markdown",
   "metadata": {},
   "source": [
    "In der Fußball Welt sind die Rückennummer auf dem Trikot des Spielers nicht nur eine Nummer, sondern sind eine Art Statussymbol, welche Rolle man in einem Verein spielt. Dabei stehen die Nummern für die Stammposition, die ein Spieler spielt. So steht die Rückennummern 1 z. B. für den Stammtorhüter einer Mannschaft oder die Nummer 9 für den Stamm Stürmer einer Mannschaft.\n",
    "Mithilfe denn folgenden Grafiken soll demnach geprüft werden, welche Marktwertsummen die Spieler mit der jeweiligen Rückennummer haben und wie oft die Rückennummer vergeben ist.\n",
    "Hier kann man dann sofort sehen, dass vor allem die Rückennummer 10 und 7 von hoher Bedeutung in der Fußballwelt sind."
   ]
  }
 ],
 "metadata": {
  "kernelspec": {
   "display_name": "Python 3",
   "language": "python",
   "name": "python3"
  },
  "language_info": {
   "codemirror_mode": {
    "name": "ipython",
    "version": 3
   },
   "file_extension": ".py",
   "mimetype": "text/x-python",
   "name": "python",
   "nbconvert_exporter": "python",
   "pygments_lexer": "ipython3",
   "version": "3.7.6"
  }
 },
 "nbformat": 4,
 "nbformat_minor": 4
}
